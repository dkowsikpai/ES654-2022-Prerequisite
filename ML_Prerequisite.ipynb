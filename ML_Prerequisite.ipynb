{
  "nbformat": 4,
  "nbformat_minor": 0,
  "metadata": {
    "colab": {
      "provenance": [],
      "toc_visible": true
    },
    "kernelspec": {
      "name": "python3",
      "display_name": "Python 3"
    },
    "language_info": {
      "name": "python"
    }
  },
  "cells": [
    {
      "cell_type": "markdown",
      "source": [
        "# Prerequsite test\n",
        "\n",
        "Submitted by:\n",
        "```\n",
        "Kowsik Nandagopan D\n",
        "22250016\n",
        "MTech CSE First Year\n",
        "```\n"
      ],
      "metadata": {
        "id": "z770zHSR2sY9"
      }
    },
    {
      "cell_type": "markdown",
      "source": [
        "## 1.\n",
        "When we are multiplying two matrices of order (n, k) and (k, m) there are \n",
        "- `n * k * m` multiplications. \n",
        "  - Because when we do dot product the first row of first matrix (k elements) with the first column of the second matrix (k elements) there are `k` multiplications.\n",
        "  - We iterate over the column of second matrix giveng us `k * m` multiplication\n",
        "  - Then we iterate over the rows giving a total of `n * k * m` multiplications\n",
        "- `n * (k - 1) * m`\n",
        "  - When we take a dot product of `k` elements each we do (k-1) additions in between\n",
        "  - For first row of first matrix we do `m` dot products.\n",
        "  - Iterating over the rows of first matrix, we get `n * (k - 1) * m` additions"
      ],
      "metadata": {
        "id": "rxst8fza29zo"
      }
    },
    {
      "cell_type": "markdown",
      "source": [
        "## 2.\n",
        "\n",
        "Python program for multiplication with list"
      ],
      "metadata": {
        "id": "fVWyJB7u5znS"
      }
    },
    {
      "cell_type": "code",
      "execution_count": 2,
      "metadata": {
        "id": "obqFDOFp1MUm"
      },
      "outputs": [],
      "source": [
        "def simple_multiplication(A, B):\n",
        "  n = len(A)\n",
        "  k = len(A[0])\n",
        "  m = len(B[0])\n",
        "  \n",
        "  result = []\n",
        "  for i in range(n):\n",
        "    temp = []\n",
        "    for j in range(m):\n",
        "      sm = 0\n",
        "      for p in range(k):\n",
        "        sm += A[i][p] * B[p][j]\n",
        "      temp.append(sm)\n",
        "    result.append(temp)\n",
        "  return result"
      ]
    },
    {
      "cell_type": "code",
      "source": [
        "A = [[1, 2, 3], [4, 5, 6]]\n",
        "B = [[1, 2], [3, 4], [5, 6]]\n",
        "simple_multiplication(A, B)"
      ],
      "metadata": {
        "colab": {
          "base_uri": "https://localhost:8080/"
        },
        "id": "NKAfPL6h7f_A",
        "outputId": "60f73cbc-664f-411c-bc9c-0d3984b01d67"
      },
      "execution_count": 3,
      "outputs": [
        {
          "output_type": "execute_result",
          "data": {
            "text/plain": [
              "[[22, 28], [49, 64]]"
            ]
          },
          "metadata": {},
          "execution_count": 3
        }
      ]
    },
    {
      "cell_type": "markdown",
      "source": [
        "Numpy variation"
      ],
      "metadata": {
        "id": "gkOwd1D38lB8"
      }
    },
    {
      "cell_type": "code",
      "source": [
        "import numpy as np"
      ],
      "metadata": {
        "id": "NT8oxeC18t0x"
      },
      "execution_count": 4,
      "outputs": []
    },
    {
      "cell_type": "code",
      "source": [
        "def numpy_multiplication(A, B):\n",
        "  return np.matmul(A, B)"
      ],
      "metadata": {
        "id": "mx-Tnvbt76Gr"
      },
      "execution_count": 5,
      "outputs": []
    },
    {
      "cell_type": "code",
      "source": [
        "numpy_multiplication(np.array(A), np.array(B))"
      ],
      "metadata": {
        "colab": {
          "base_uri": "https://localhost:8080/"
        },
        "id": "RRm8yPDA8zNV",
        "outputId": "9e42b65a-3c25-4366-ca29-289fd02e85b3"
      },
      "execution_count": 6,
      "outputs": [
        {
          "output_type": "execute_result",
          "data": {
            "text/plain": [
              "array([[22, 28],\n",
              "       [49, 64]])"
            ]
          },
          "metadata": {},
          "execution_count": 6
        }
      ]
    },
    {
      "cell_type": "markdown",
      "source": [
        "Time Comparison"
      ],
      "metadata": {
        "id": "4qn1aMd39Rdp"
      }
    },
    {
      "cell_type": "code",
      "source": [
        "n, k, m = 100, 200, 300\n",
        "A_np = np.random.rand(n, k)\n",
        "B_np = np.random.rand(k, m)\n",
        "\n",
        "A = A_np.tolist()\n",
        "B = B_np.tolist()"
      ],
      "metadata": {
        "id": "NtPhAcT282XH"
      },
      "execution_count": 7,
      "outputs": []
    },
    {
      "cell_type": "code",
      "source": [
        "%timeit simple_multiplication(A, B)\n",
        "%timeit numpy_multiplication(A_np, B_np)"
      ],
      "metadata": {
        "colab": {
          "base_uri": "https://localhost:8080/"
        },
        "id": "y9TfvaLg95bk",
        "outputId": "e9e40b07-54fb-4813-f154-79995dfefd05"
      },
      "execution_count": 8,
      "outputs": [
        {
          "output_type": "stream",
          "name": "stdout",
          "text": [
            "1.26 s ± 39.5 ms per loop (mean ± std. dev. of 7 runs, 1 loop each)\n",
            "521 µs ± 20.6 µs per loop (mean ± std. dev. of 7 runs, 1000 loops each)\n"
          ]
        }
      ]
    },
    {
      "cell_type": "markdown",
      "source": [
        "It is clear that **`numpy` based multiplication excuted way faster** than the list based one. This is because,  of the following reasons,\n",
        "  - Stores data in continuous memory location, and homogeneous data type\n",
        "  - Parallel processing implemented inside numpy (vectorisation)\n",
        "  - C is used in the background of numpy, which executes way faster than Python"
      ],
      "metadata": {
        "id": "e1na0XqJ_uUV"
      }
    },
    {
      "cell_type": "markdown",
      "source": [
        "## 3"
      ],
      "metadata": {
        "id": "5sJG2I-BBDSh"
      }
    },
    {
      "cell_type": "markdown",
      "source": [
        "Using each passes to find the next biggest element to find median takes $n/2$ passes over array of size $n$. So the time complexity is $O(n)$. Consider the following implementation.\n"
      ],
      "metadata": {
        "id": "RA7D6i8fkNXj"
      }
    },
    {
      "cell_type": "code",
      "source": [
        "import sys"
      ],
      "metadata": {
        "id": "bFegtRlltJIx"
      },
      "execution_count": 54,
      "outputs": []
    },
    {
      "cell_type": "code",
      "source": [
        "def arr_median(arr):\n",
        "  median = max(arr) # One pass\n",
        "  n = len(arr)\n",
        "  m = n // 2\n",
        "  m -= 0 if n % 2 else 1 # For odd numbers just finds till n/2+1 th largest\n",
        "  for i in range(m):\n",
        "    mx = -sys.maxsize - 1\n",
        "    for j in range(n):\n",
        "      if arr[j] < median and mx < arr[j]:\n",
        "        mx = arr[j]\n",
        "    median = mx\n",
        "\n",
        "  if n % 2 == 0: # For odd numbers takes n / 2th number also and sends the average\n",
        "    mx = -sys.maxsize - 1 \n",
        "    for j in range(n):\n",
        "      if arr[j] < median and mx < arr[j]:\n",
        "        mx = arr[j]\n",
        "    median = (median + mx) / 2\n",
        "\n",
        "  return float(median)"
      ],
      "metadata": {
        "id": "govaTiV3_pPd"
      },
      "execution_count": 57,
      "outputs": []
    },
    {
      "cell_type": "code",
      "source": [
        "arr_median([6, 3, 2, 1, 5, 4])"
      ],
      "metadata": {
        "colab": {
          "base_uri": "https://localhost:8080/"
        },
        "id": "nGwI8FxgnOVd",
        "outputId": "285e5294-cda1-4dd1-b500-2e920cede9f4"
      },
      "execution_count": 58,
      "outputs": [
        {
          "output_type": "execute_result",
          "data": {
            "text/plain": [
              "3.5"
            ]
          },
          "metadata": {},
          "execution_count": 58
        }
      ]
    },
    {
      "cell_type": "code",
      "source": [
        "# def better_median(arr):\n"
      ],
      "metadata": {
        "id": "S0EYhHY7qgHI"
      },
      "execution_count": null,
      "outputs": []
    },
    {
      "cell_type": "code",
      "source": [
        "np.median([1, 2, 3, 4, 5, 6])"
      ],
      "metadata": {
        "colab": {
          "base_uri": "https://localhost:8080/"
        },
        "id": "a91uicpfnwgk",
        "outputId": "5d62e26b-00c0-4872-e99c-ca831dfc1b7e"
      },
      "execution_count": 22,
      "outputs": [
        {
          "output_type": "execute_result",
          "data": {
            "text/plain": [
              "3.5"
            ]
          },
          "metadata": {},
          "execution_count": 22
        }
      ]
    },
    {
      "cell_type": "markdown",
      "source": [
        "## 4"
      ],
      "metadata": {
        "id": "74BrkcOHCMQr"
      }
    },
    {
      "cell_type": "markdown",
      "source": [
        "Gradient of funtion $x^{2}y + y^{3}sin(x)$\n",
        "- With respect to x is $2xy + y^{3}cos(x)$\n",
        "- With respect to y is $x^{2} + 3y^{2}sin(x)$"
      ],
      "metadata": {
        "id": "9Oymf0p9CrA0"
      }
    },
    {
      "cell_type": "markdown",
      "source": [
        "## 5"
      ],
      "metadata": {
        "id": "093wACLBEQpS"
      }
    },
    {
      "cell_type": "code",
      "source": [
        "import jax"
      ],
      "metadata": {
        "id": "GVUyrbxvDmOm"
      },
      "execution_count": 59,
      "outputs": []
    },
    {
      "cell_type": "markdown",
      "source": [
        "Without using `JAX` value of gradient"
      ],
      "metadata": {
        "id": "1GVmmOJOGLjj"
      }
    },
    {
      "cell_type": "code",
      "source": [
        "def f(x, y):\n",
        "  return x**2 * y + y**3 * jax.numpy.sin(x)\n",
        "\n",
        "def dfdx(x, y):\n",
        "  return 2 * x * y + y**3 * jax.numpy.cos(x)\n",
        "\n",
        "def dfdy(x, y):\n",
        "  return x**2 + 3 * y**2 * jax.numpy.sin(x)\n",
        "\n",
        "print(\"f(1, 1)=\", f(1.0, 1.0))\n",
        "print(\"dfdx(1, 1)=\", dfdx(1.0, 1.0))\n",
        "print(\"dfdy(1, 1)=\", dfdy(1.0, 1.0))"
      ],
      "metadata": {
        "colab": {
          "base_uri": "https://localhost:8080/"
        },
        "id": "HP_UHLC1CQbE",
        "outputId": "1b13beb5-9fd9-4d83-c036-0ba3b9adad66"
      },
      "execution_count": 60,
      "outputs": [
        {
          "output_type": "stream",
          "name": "stderr",
          "text": [
            "WARNING:jax._src.lib.xla_bridge:No GPU/TPU found, falling back to CPU. (Set TF_CPP_MIN_LOG_LEVEL=0 and rerun for more info.)\n"
          ]
        },
        {
          "output_type": "stream",
          "name": "stdout",
          "text": [
            "f(1, 1)= 1.841471\n",
            "dfdx(1, 1)= 2.5403023\n",
            "dfdy(1, 1)= 3.5244129\n"
          ]
        }
      ]
    },
    {
      "cell_type": "markdown",
      "source": [
        "Verifying using the `JAX`"
      ],
      "metadata": {
        "id": "pe9PICzMGR-_"
      }
    },
    {
      "cell_type": "code",
      "source": [
        "dfdx_jax = jax.grad(f, argnums=0) # With respect to x\n",
        "dfdy_jax = jax.grad(f, argnums=1) # With respect to y\n",
        "print(\"dfdx(1, 1)=\", dfdx_jax(1.0, 1.0))\n",
        "print(\"dfdy(1, 1)=\", dfdy_jax(1.0, 1.0))"
      ],
      "metadata": {
        "colab": {
          "base_uri": "https://localhost:8080/"
        },
        "id": "TpbDU9XaEMg2",
        "outputId": "05d85656-abc3-4af4-e84f-8dc90dc1684e"
      },
      "execution_count": 61,
      "outputs": [
        {
          "output_type": "stream",
          "name": "stdout",
          "text": [
            "dfdx(1, 1)= 2.5403023\n",
            "dfdy(1, 1)= 3.5244129\n"
          ]
        }
      ]
    },
    {
      "cell_type": "markdown",
      "source": [
        "Both the gradients are same for the JAX and non-JAX implimentation"
      ],
      "metadata": {
        "id": "bBzSH2xtGYB5"
      }
    },
    {
      "cell_type": "markdown",
      "source": [
        "## 6"
      ],
      "metadata": {
        "id": "Kfc83faNtgPf"
      }
    },
    {
      "cell_type": "code",
      "source": [
        "import sympy\n",
        "sympy.init_printing(use_unicode=True)"
      ],
      "metadata": {
        "id": "Mb20Oxxytfb_"
      },
      "execution_count": 68,
      "outputs": []
    },
    {
      "cell_type": "code",
      "source": [
        "x_sy , y_sy = sympy.symbols('x y')"
      ],
      "metadata": {
        "id": "lMQI9SRgujCg"
      },
      "execution_count": 70,
      "outputs": []
    },
    {
      "cell_type": "code",
      "source": [
        "f = (x_sy**2) * y_sy + (y_sy**3) * sympy.sin(x_sy)\n",
        "f"
      ],
      "metadata": {
        "colab": {
          "base_uri": "https://localhost:8080/",
          "height": 38
        },
        "id": "HqTgSUZ4vZVj",
        "outputId": "866b54ec-2cc5-43bb-a7e2-dbf8af0bbbe5"
      },
      "execution_count": 77,
      "outputs": [
        {
          "output_type": "execute_result",
          "data": {
            "text/plain": [
              " 2      3       \n",
              "x ⋅y + y ⋅sin(x)"
            ],
            "image/png": "[encoded data removed]",
            "text/latex": "$\\displaystyle x^{2} y + y^{3} \\sin{\\left(x \\right)}$"
          },
          "metadata": {},
          "execution_count": 77
        }
      ]
    },
    {
      "cell_type": "code",
      "source": [
        "print(\"Gradient with respect to x:\", sympy.diff(f, x_sy))\n",
        "print(\"Gradient with respect to y:\", sympy.diff(f, y_sy))"
      ],
      "metadata": {
        "colab": {
          "base_uri": "https://localhost:8080/"
        },
        "id": "Nj8fvfN8v8zL",
        "outputId": "b2ee3741-f130-4ac0-91fe-eb49a953b688"
      },
      "execution_count": 82,
      "outputs": [
        {
          "output_type": "stream",
          "name": "stdout",
          "text": [
            "Gradient with respect to x: 2*x*y + y**3*cos(x)\n",
            "Gradient with respect to y: x**2 + 3*y**2*sin(x)\n"
          ]
        }
      ]
    },
    {
      "cell_type": "markdown",
      "source": [
        "## 7"
      ],
      "metadata": {
        "id": "px1wbJOlxCxf"
      }
    },
    {
      "cell_type": "code",
      "source": [
        "d = { \n",
        "  2022: {\n",
        "  \"Branch 1\": [{\"Roll Number\": 1, \"Name\": \"A\", \"Marks\": {\"Maths\": 100, \"English\": 70}}, {\"Roll Number\": 2, \"Name\": \"B\", \"Marks\": {\"Maths\": 90, \"English\": 80}}],\n",
        "  \"Branch 2\":[{\"Roll Number\": 3, \"Name\": \"C\", \"Marks\": {\"Maths\": 100, \"English\": 70}}, {\"Roll Number\": 4, \"Name\": \"D\", \"Marks\": {\"Maths\": 90, \"English\": 80}}]\n",
        "  },\n",
        "  2023: {\n",
        "  \"Branch 1\": [{\"Roll Number\": 5, \"Name\": \"E\", \"Marks\": {\"Maths\": 100, \"English\": 70}}, {\"Roll Number\": 6, \"Name\": \"F\", \"Marks\": {\"Maths\": 90, \"English\": 80}}],\n",
        "  \"Branch 2\":[{\"Roll Number\": 7, \"Name\": \"G\", \"Marks\": {\"Maths\": 100, \"English\": 70}}, {\"Roll Number\": 8, \"Name\": \"H\", \"Marks\": {\"Maths\": 90, \"English\": 80}}]\n",
        "  },\n",
        "  2024: {\n",
        "  \"Branch 1\": [{\"Roll Number\": 9, \"Name\": \"I\", \"Marks\": {\"Maths\": 100, \"English\": 70}}, {\"Roll Number\": 10, \"Name\": \"J\", \"Marks\": {\"Maths\": 90, \"English\": 80}}],\n",
        "  \"Branch 2\":[{\"Roll Number\": 11, \"Name\": \"K\", \"Marks\": {\"Maths\": 100, \"English\": 70}}, {\"Roll Number\": 12, \"Name\": \"L\", \"Marks\": {\"Maths\": 90, \"English\": 80}}]\n",
        "  },\n",
        "  2025: {\n",
        "  \"Branch 1\": [{\"Roll Number\": 13, \"Name\": \"M\", \"Marks\": {\"Maths\": 100, \"English\": 70}}, {\"Roll Number\": 14, \"Name\": \"N\", \"Marks\": {\"Maths\": 90, \"English\": 80}}],\n",
        "  \"Branch 2\":[{\"Roll Number\": 15, \"Name\": \"O\", \"Marks\": {\"Maths\": 100, \"English\": 70}}, {\"Roll Number\": 16, \"Name\": \"P\", \"Marks\": {\"Maths\": 90, \"English\": 80}}]\n",
        "  }\n",
        "}"
      ],
      "metadata": {
        "id": "Fk8OmY0txBri"
      },
      "execution_count": 79,
      "outputs": []
    },
    {
      "cell_type": "code",
      "source": [
        "!pip install rich"
      ],
      "metadata": {
        "id": "g6LM8-Sc0uEd"
      },
      "execution_count": null,
      "outputs": []
    },
    {
      "cell_type": "code",
      "source": [
        "from rich.pretty import pprint"
      ],
      "metadata": {
        "id": "O22KtqY80sKe"
      },
      "execution_count": 85,
      "outputs": []
    },
    {
      "cell_type": "code",
      "source": [
        "pprint(d)"
      ],
      "metadata": {
        "colab": {
          "base_uri": "https://localhost:8080/",
          "height": 689
        },
        "id": "XGACi_aSzsnm",
        "outputId": "5dc55a1d-af2e-47cc-b712-ed5d43408a9c"
      },
      "execution_count": 86,
      "outputs": [
        {
          "output_type": "display_data",
          "data": {
            "text/plain": [
              "\u001b[1m{\u001b[0m\n",
              "\u001b[2;32m│   \u001b[0m\u001b[1;36m2022\u001b[0m: \u001b[1m{\u001b[0m\n",
              "\u001b[2;32m│   │   \u001b[0m\u001b[32m'Branch 1'\u001b[0m: \u001b[1m[\u001b[0m\n",
              "\u001b[2;32m│   │   │   \u001b[0m\u001b[1m{\u001b[0m\u001b[32m'Roll Number'\u001b[0m: \u001b[1;36m1\u001b[0m, \u001b[32m'Name'\u001b[0m: \u001b[32m'A'\u001b[0m, \u001b[32m'Marks'\u001b[0m: \u001b[1m{\u001b[0m\u001b[32m'Maths'\u001b[0m: \u001b[1;36m100\u001b[0m, \u001b[32m'English'\u001b[0m: \u001b[1;36m70\u001b[0m\u001b[1m}\u001b[0m\u001b[1m}\u001b[0m,\n",
              "\u001b[2;32m│   │   │   \u001b[0m\u001b[1m{\u001b[0m\u001b[32m'Roll Number'\u001b[0m: \u001b[1;36m2\u001b[0m, \u001b[32m'Name'\u001b[0m: \u001b[32m'B'\u001b[0m, \u001b[32m'Marks'\u001b[0m: \u001b[1m{\u001b[0m\u001b[32m'Maths'\u001b[0m: \u001b[1;36m90\u001b[0m, \u001b[32m'English'\u001b[0m: \u001b[1;36m80\u001b[0m\u001b[1m}\u001b[0m\u001b[1m}\u001b[0m\n",
              "\u001b[2;32m│   │   \u001b[0m\u001b[1m]\u001b[0m,\n",
              "\u001b[2;32m│   │   \u001b[0m\u001b[32m'Branch 2'\u001b[0m: \u001b[1m[\u001b[0m\n",
              "\u001b[2;32m│   │   │   \u001b[0m\u001b[1m{\u001b[0m\u001b[32m'Roll Number'\u001b[0m: \u001b[1;36m3\u001b[0m, \u001b[32m'Name'\u001b[0m: \u001b[32m'C'\u001b[0m, \u001b[32m'Marks'\u001b[0m: \u001b[1m{\u001b[0m\u001b[32m'Maths'\u001b[0m: \u001b[1;36m100\u001b[0m, \u001b[32m'English'\u001b[0m: \u001b[1;36m70\u001b[0m\u001b[1m}\u001b[0m\u001b[1m}\u001b[0m,\n",
              "\u001b[2;32m│   │   │   \u001b[0m\u001b[1m{\u001b[0m\u001b[32m'Roll Number'\u001b[0m: \u001b[1;36m4\u001b[0m, \u001b[32m'Name'\u001b[0m: \u001b[32m'D'\u001b[0m, \u001b[32m'Marks'\u001b[0m: \u001b[1m{\u001b[0m\u001b[32m'Maths'\u001b[0m: \u001b[1;36m90\u001b[0m, \u001b[32m'English'\u001b[0m: \u001b[1;36m80\u001b[0m\u001b[1m}\u001b[0m\u001b[1m}\u001b[0m\n",
              "\u001b[2;32m│   │   \u001b[0m\u001b[1m]\u001b[0m\n",
              "\u001b[2;32m│   \u001b[0m\u001b[1m}\u001b[0m,\n",
              "\u001b[2;32m│   \u001b[0m\u001b[1;36m2023\u001b[0m: \u001b[1m{\u001b[0m\n",
              "\u001b[2;32m│   │   \u001b[0m\u001b[32m'Branch 1'\u001b[0m: \u001b[1m[\u001b[0m\n",
              "\u001b[2;32m│   │   │   \u001b[0m\u001b[1m{\u001b[0m\u001b[32m'Roll Number'\u001b[0m: \u001b[1;36m5\u001b[0m, \u001b[32m'Name'\u001b[0m: \u001b[32m'E'\u001b[0m, \u001b[32m'Marks'\u001b[0m: \u001b[1m{\u001b[0m\u001b[32m'Maths'\u001b[0m: \u001b[1;36m100\u001b[0m, \u001b[32m'English'\u001b[0m: \u001b[1;36m70\u001b[0m\u001b[1m}\u001b[0m\u001b[1m}\u001b[0m,\n",
              "\u001b[2;32m│   │   │   \u001b[0m\u001b[1m{\u001b[0m\u001b[32m'Roll Number'\u001b[0m: \u001b[1;36m6\u001b[0m, \u001b[32m'Name'\u001b[0m: \u001b[32m'F'\u001b[0m, \u001b[32m'Marks'\u001b[0m: \u001b[1m{\u001b[0m\u001b[32m'Maths'\u001b[0m: \u001b[1;36m90\u001b[0m, \u001b[32m'English'\u001b[0m: \u001b[1;36m80\u001b[0m\u001b[1m}\u001b[0m\u001b[1m}\u001b[0m\n",
              "\u001b[2;32m│   │   \u001b[0m\u001b[1m]\u001b[0m,\n",
              "\u001b[2;32m│   │   \u001b[0m\u001b[32m'Branch 2'\u001b[0m: \u001b[1m[\u001b[0m\n",
              "\u001b[2;32m│   │   │   \u001b[0m\u001b[1m{\u001b[0m\u001b[32m'Roll Number'\u001b[0m: \u001b[1;36m7\u001b[0m, \u001b[32m'Name'\u001b[0m: \u001b[32m'G'\u001b[0m, \u001b[32m'Marks'\u001b[0m: \u001b[1m{\u001b[0m\u001b[32m'Maths'\u001b[0m: \u001b[1;36m100\u001b[0m, \u001b[32m'English'\u001b[0m: \u001b[1;36m70\u001b[0m\u001b[1m}\u001b[0m\u001b[1m}\u001b[0m,\n",
              "\u001b[2;32m│   │   │   \u001b[0m\u001b[1m{\u001b[0m\u001b[32m'Roll Number'\u001b[0m: \u001b[1;36m8\u001b[0m, \u001b[32m'Name'\u001b[0m: \u001b[32m'H'\u001b[0m, \u001b[32m'Marks'\u001b[0m: \u001b[1m{\u001b[0m\u001b[32m'Maths'\u001b[0m: \u001b[1;36m90\u001b[0m, \u001b[32m'English'\u001b[0m: \u001b[1;36m80\u001b[0m\u001b[1m}\u001b[0m\u001b[1m}\u001b[0m\n",
              "\u001b[2;32m│   │   \u001b[0m\u001b[1m]\u001b[0m\n",
              "\u001b[2;32m│   \u001b[0m\u001b[1m}\u001b[0m,\n",
              "\u001b[2;32m│   \u001b[0m\u001b[1;36m2024\u001b[0m: \u001b[1m{\u001b[0m\n",
              "\u001b[2;32m│   │   \u001b[0m\u001b[32m'Branch 1'\u001b[0m: \u001b[1m[\u001b[0m\n",
              "\u001b[2;32m│   │   │   \u001b[0m\u001b[1m{\u001b[0m\u001b[32m'Roll Number'\u001b[0m: \u001b[1;36m9\u001b[0m, \u001b[32m'Name'\u001b[0m: \u001b[32m'I'\u001b[0m, \u001b[32m'Marks'\u001b[0m: \u001b[1m{\u001b[0m\u001b[32m'Maths'\u001b[0m: \u001b[1;36m100\u001b[0m, \u001b[32m'English'\u001b[0m: \u001b[1;36m70\u001b[0m\u001b[1m}\u001b[0m\u001b[1m}\u001b[0m,\n",
              "\u001b[2;32m│   │   │   \u001b[0m\u001b[1m{\u001b[0m\u001b[32m'Roll Number'\u001b[0m: \u001b[1;36m10\u001b[0m, \u001b[32m'Name'\u001b[0m: \u001b[32m'J'\u001b[0m, \u001b[32m'Marks'\u001b[0m: \u001b[1m{\u001b[0m\u001b[32m'Maths'\u001b[0m: \u001b[1;36m90\u001b[0m, \u001b[32m'English'\u001b[0m: \u001b[1;36m80\u001b[0m\u001b[1m}\u001b[0m\u001b[1m}\u001b[0m\n",
              "\u001b[2;32m│   │   \u001b[0m\u001b[1m]\u001b[0m,\n",
              "\u001b[2;32m│   │   \u001b[0m\u001b[32m'Branch 2'\u001b[0m: \u001b[1m[\u001b[0m\n",
              "\u001b[2;32m│   │   │   \u001b[0m\u001b[1m{\u001b[0m\u001b[32m'Roll Number'\u001b[0m: \u001b[1;36m11\u001b[0m, \u001b[32m'Name'\u001b[0m: \u001b[32m'K'\u001b[0m, \u001b[32m'Marks'\u001b[0m: \u001b[1m{\u001b[0m\u001b[32m'Maths'\u001b[0m: \u001b[1;36m100\u001b[0m, \u001b[32m'English'\u001b[0m: \u001b[1;36m70\u001b[0m\u001b[1m}\u001b[0m\u001b[1m}\u001b[0m,\n",
              "\u001b[2;32m│   │   │   \u001b[0m\u001b[1m{\u001b[0m\u001b[32m'Roll Number'\u001b[0m: \u001b[1;36m12\u001b[0m, \u001b[32m'Name'\u001b[0m: \u001b[32m'L'\u001b[0m, \u001b[32m'Marks'\u001b[0m: \u001b[1m{\u001b[0m\u001b[32m'Maths'\u001b[0m: \u001b[1;36m90\u001b[0m, \u001b[32m'English'\u001b[0m: \u001b[1;36m80\u001b[0m\u001b[1m}\u001b[0m\u001b[1m}\u001b[0m\n",
              "\u001b[2;32m│   │   \u001b[0m\u001b[1m]\u001b[0m\n",
              "\u001b[2;32m│   \u001b[0m\u001b[1m}\u001b[0m,\n",
              "\u001b[2;32m│   \u001b[0m\u001b[1;36m2025\u001b[0m: \u001b[1m{\u001b[0m\n",
              "\u001b[2;32m│   │   \u001b[0m\u001b[32m'Branch 1'\u001b[0m: \u001b[1m[\u001b[0m\n",
              "\u001b[2;32m│   │   │   \u001b[0m\u001b[1m{\u001b[0m\u001b[32m'Roll Number'\u001b[0m: \u001b[1;36m13\u001b[0m, \u001b[32m'Name'\u001b[0m: \u001b[32m'M'\u001b[0m, \u001b[32m'Marks'\u001b[0m: \u001b[1m{\u001b[0m\u001b[32m'Maths'\u001b[0m: \u001b[1;36m100\u001b[0m, \u001b[32m'English'\u001b[0m: \u001b[1;36m70\u001b[0m\u001b[1m}\u001b[0m\u001b[1m}\u001b[0m,\n",
              "\u001b[2;32m│   │   │   \u001b[0m\u001b[1m{\u001b[0m\u001b[32m'Roll Number'\u001b[0m: \u001b[1;36m14\u001b[0m, \u001b[32m'Name'\u001b[0m: \u001b[32m'N'\u001b[0m, \u001b[32m'Marks'\u001b[0m: \u001b[1m{\u001b[0m\u001b[32m'Maths'\u001b[0m: \u001b[1;36m90\u001b[0m, \u001b[32m'English'\u001b[0m: \u001b[1;36m80\u001b[0m\u001b[1m}\u001b[0m\u001b[1m}\u001b[0m\n",
              "\u001b[2;32m│   │   \u001b[0m\u001b[1m]\u001b[0m,\n",
              "\u001b[2;32m│   │   \u001b[0m\u001b[32m'Branch 2'\u001b[0m: \u001b[1m[\u001b[0m\n",
              "\u001b[2;32m│   │   │   \u001b[0m\u001b[1m{\u001b[0m\u001b[32m'Roll Number'\u001b[0m: \u001b[1;36m15\u001b[0m, \u001b[32m'Name'\u001b[0m: \u001b[32m'O'\u001b[0m, \u001b[32m'Marks'\u001b[0m: \u001b[1m{\u001b[0m\u001b[32m'Maths'\u001b[0m: \u001b[1;36m100\u001b[0m, \u001b[32m'English'\u001b[0m: \u001b[1;36m70\u001b[0m\u001b[1m}\u001b[0m\u001b[1m}\u001b[0m,\n",
              "\u001b[2;32m│   │   │   \u001b[0m\u001b[1m{\u001b[0m\u001b[32m'Roll Number'\u001b[0m: \u001b[1;36m16\u001b[0m, \u001b[32m'Name'\u001b[0m: \u001b[32m'P'\u001b[0m, \u001b[32m'Marks'\u001b[0m: \u001b[1m{\u001b[0m\u001b[32m'Maths'\u001b[0m: \u001b[1;36m90\u001b[0m, \u001b[32m'English'\u001b[0m: \u001b[1;36m80\u001b[0m\u001b[1m}\u001b[0m\u001b[1m}\u001b[0m\n",
              "\u001b[2;32m│   │   \u001b[0m\u001b[1m]\u001b[0m\n",
              "\u001b[2;32m│   \u001b[0m\u001b[1m}\u001b[0m\n",
              "\u001b[1m}\u001b[0m\n"
            ],
            "text/html": [
              "<pre style=\"white-space:pre;overflow-x:auto;line-height:normal;font-family:Menlo,'DejaVu Sans Mono',consolas,'Courier New',monospace\"><span style=\"font-weight: bold\">{</span>\n",
              "<span style=\"color: #7fbf7f; text-decoration-color: #7fbf7f\">│   </span><span style=\"color: #008080; text-decoration-color: #008080; font-weight: bold\">2022</span>: <span style=\"font-weight: bold\">{</span>\n",
              "<span style=\"color: #7fbf7f; text-decoration-color: #7fbf7f\">│   │   </span><span style=\"color: #008000; text-decoration-color: #008000\">'Branch 1'</span>: <span style=\"font-weight: bold\">[</span>\n",
              "<span style=\"color: #7fbf7f; text-decoration-color: #7fbf7f\">│   │   │   </span><span style=\"font-weight: bold\">{</span><span style=\"color: #008000; text-decoration-color: #008000\">'Roll Number'</span>: <span style=\"color: #008080; text-decoration-color: #008080; font-weight: bold\">1</span>, <span style=\"color: #008000; text-decoration-color: #008000\">'Name'</span>: <span style=\"color: #008000; text-decoration-color: #008000\">'A'</span>, <span style=\"color: #008000; text-decoration-color: #008000\">'Marks'</span>: <span style=\"font-weight: bold\">{</span><span style=\"color: #008000; text-decoration-color: #008000\">'Maths'</span>: <span style=\"color: #008080; text-decoration-color: #008080; font-weight: bold\">100</span>, <span style=\"color: #008000; text-decoration-color: #008000\">'English'</span>: <span style=\"color: #008080; text-decoration-color: #008080; font-weight: bold\">70</span><span style=\"font-weight: bold\">}}</span>,\n",
              "<span style=\"color: #7fbf7f; text-decoration-color: #7fbf7f\">│   │   │   </span><span style=\"font-weight: bold\">{</span><span style=\"color: #008000; text-decoration-color: #008000\">'Roll Number'</span>: <span style=\"color: #008080; text-decoration-color: #008080; font-weight: bold\">2</span>, <span style=\"color: #008000; text-decoration-color: #008000\">'Name'</span>: <span style=\"color: #008000; text-decoration-color: #008000\">'B'</span>, <span style=\"color: #008000; text-decoration-color: #008000\">'Marks'</span>: <span style=\"font-weight: bold\">{</span><span style=\"color: #008000; text-decoration-color: #008000\">'Maths'</span>: <span style=\"color: #008080; text-decoration-color: #008080; font-weight: bold\">90</span>, <span style=\"color: #008000; text-decoration-color: #008000\">'English'</span>: <span style=\"color: #008080; text-decoration-color: #008080; font-weight: bold\">80</span><span style=\"font-weight: bold\">}}</span>\n",
              "<span style=\"color: #7fbf7f; text-decoration-color: #7fbf7f\">│   │   </span><span style=\"font-weight: bold\">]</span>,\n",
              "<span style=\"color: #7fbf7f; text-decoration-color: #7fbf7f\">│   │   </span><span style=\"color: #008000; text-decoration-color: #008000\">'Branch 2'</span>: <span style=\"font-weight: bold\">[</span>\n",
              "<span style=\"color: #7fbf7f; text-decoration-color: #7fbf7f\">│   │   │   </span><span style=\"font-weight: bold\">{</span><span style=\"color: #008000; text-decoration-color: #008000\">'Roll Number'</span>: <span style=\"color: #008080; text-decoration-color: #008080; font-weight: bold\">3</span>, <span style=\"color: #008000; text-decoration-color: #008000\">'Name'</span>: <span style=\"color: #008000; text-decoration-color: #008000\">'C'</span>, <span style=\"color: #008000; text-decoration-color: #008000\">'Marks'</span>: <span style=\"font-weight: bold\">{</span><span style=\"color: #008000; text-decoration-color: #008000\">'Maths'</span>: <span style=\"color: #008080; text-decoration-color: #008080; font-weight: bold\">100</span>, <span style=\"color: #008000; text-decoration-color: #008000\">'English'</span>: <span style=\"color: #008080; text-decoration-color: #008080; font-weight: bold\">70</span><span style=\"font-weight: bold\">}}</span>,\n",
              "<span style=\"color: #7fbf7f; text-decoration-color: #7fbf7f\">│   │   │   </span><span style=\"font-weight: bold\">{</span><span style=\"color: #008000; text-decoration-color: #008000\">'Roll Number'</span>: <span style=\"color: #008080; text-decoration-color: #008080; font-weight: bold\">4</span>, <span style=\"color: #008000; text-decoration-color: #008000\">'Name'</span>: <span style=\"color: #008000; text-decoration-color: #008000\">'D'</span>, <span style=\"color: #008000; text-decoration-color: #008000\">'Marks'</span>: <span style=\"font-weight: bold\">{</span><span style=\"color: #008000; text-decoration-color: #008000\">'Maths'</span>: <span style=\"color: #008080; text-decoration-color: #008080; font-weight: bold\">90</span>, <span style=\"color: #008000; text-decoration-color: #008000\">'English'</span>: <span style=\"color: #008080; text-decoration-color: #008080; font-weight: bold\">80</span><span style=\"font-weight: bold\">}}</span>\n",
              "<span style=\"color: #7fbf7f; text-decoration-color: #7fbf7f\">│   │   </span><span style=\"font-weight: bold\">]</span>\n",
              "<span style=\"color: #7fbf7f; text-decoration-color: #7fbf7f\">│   </span><span style=\"font-weight: bold\">}</span>,\n",
              "<span style=\"color: #7fbf7f; text-decoration-color: #7fbf7f\">│   </span><span style=\"color: #008080; text-decoration-color: #008080; font-weight: bold\">2023</span>: <span style=\"font-weight: bold\">{</span>\n",
              "<span style=\"color: #7fbf7f; text-decoration-color: #7fbf7f\">│   │   </span><span style=\"color: #008000; text-decoration-color: #008000\">'Branch 1'</span>: <span style=\"font-weight: bold\">[</span>\n",
              "<span style=\"color: #7fbf7f; text-decoration-color: #7fbf7f\">│   │   │   </span><span style=\"font-weight: bold\">{</span><span style=\"color: #008000; text-decoration-color: #008000\">'Roll Number'</span>: <span style=\"color: #008080; text-decoration-color: #008080; font-weight: bold\">5</span>, <span style=\"color: #008000; text-decoration-color: #008000\">'Name'</span>: <span style=\"color: #008000; text-decoration-color: #008000\">'E'</span>, <span style=\"color: #008000; text-decoration-color: #008000\">'Marks'</span>: <span style=\"font-weight: bold\">{</span><span style=\"color: #008000; text-decoration-color: #008000\">'Maths'</span>: <span style=\"color: #008080; text-decoration-color: #008080; font-weight: bold\">100</span>, <span style=\"color: #008000; text-decoration-color: #008000\">'English'</span>: <span style=\"color: #008080; text-decoration-color: #008080; font-weight: bold\">70</span><span style=\"font-weight: bold\">}}</span>,\n",
              "<span style=\"color: #7fbf7f; text-decoration-color: #7fbf7f\">│   │   │   </span><span style=\"font-weight: bold\">{</span><span style=\"color: #008000; text-decoration-color: #008000\">'Roll Number'</span>: <span style=\"color: #008080; text-decoration-color: #008080; font-weight: bold\">6</span>, <span style=\"color: #008000; text-decoration-color: #008000\">'Name'</span>: <span style=\"color: #008000; text-decoration-color: #008000\">'F'</span>, <span style=\"color: #008000; text-decoration-color: #008000\">'Marks'</span>: <span style=\"font-weight: bold\">{</span><span style=\"color: #008000; text-decoration-color: #008000\">'Maths'</span>: <span style=\"color: #008080; text-decoration-color: #008080; font-weight: bold\">90</span>, <span style=\"color: #008000; text-decoration-color: #008000\">'English'</span>: <span style=\"color: #008080; text-decoration-color: #008080; font-weight: bold\">80</span><span style=\"font-weight: bold\">}}</span>\n",
              "<span style=\"color: #7fbf7f; text-decoration-color: #7fbf7f\">│   │   </span><span style=\"font-weight: bold\">]</span>,\n",
              "<span style=\"color: #7fbf7f; text-decoration-color: #7fbf7f\">│   │   </span><span style=\"color: #008000; text-decoration-color: #008000\">'Branch 2'</span>: <span style=\"font-weight: bold\">[</span>\n",
              "<span style=\"color: #7fbf7f; text-decoration-color: #7fbf7f\">│   │   │   </span><span style=\"font-weight: bold\">{</span><span style=\"color: #008000; text-decoration-color: #008000\">'Roll Number'</span>: <span style=\"color: #008080; text-decoration-color: #008080; font-weight: bold\">7</span>, <span style=\"color: #008000; text-decoration-color: #008000\">'Name'</span>: <span style=\"color: #008000; text-decoration-color: #008000\">'G'</span>, <span style=\"color: #008000; text-decoration-color: #008000\">'Marks'</span>: <span style=\"font-weight: bold\">{</span><span style=\"color: #008000; text-decoration-color: #008000\">'Maths'</span>: <span style=\"color: #008080; text-decoration-color: #008080; font-weight: bold\">100</span>, <span style=\"color: #008000; text-decoration-color: #008000\">'English'</span>: <span style=\"color: #008080; text-decoration-color: #008080; font-weight: bold\">70</span><span style=\"font-weight: bold\">}}</span>,\n",
              "<span style=\"color: #7fbf7f; text-decoration-color: #7fbf7f\">│   │   │   </span><span style=\"font-weight: bold\">{</span><span style=\"color: #008000; text-decoration-color: #008000\">'Roll Number'</span>: <span style=\"color: #008080; text-decoration-color: #008080; font-weight: bold\">8</span>, <span style=\"color: #008000; text-decoration-color: #008000\">'Name'</span>: <span style=\"color: #008000; text-decoration-color: #008000\">'H'</span>, <span style=\"color: #008000; text-decoration-color: #008000\">'Marks'</span>: <span style=\"font-weight: bold\">{</span><span style=\"color: #008000; text-decoration-color: #008000\">'Maths'</span>: <span style=\"color: #008080; text-decoration-color: #008080; font-weight: bold\">90</span>, <span style=\"color: #008000; text-decoration-color: #008000\">'English'</span>: <span style=\"color: #008080; text-decoration-color: #008080; font-weight: bold\">80</span><span style=\"font-weight: bold\">}}</span>\n",
              "<span style=\"color: #7fbf7f; text-decoration-color: #7fbf7f\">│   │   </span><span style=\"font-weight: bold\">]</span>\n",
              "<span style=\"color: #7fbf7f; text-decoration-color: #7fbf7f\">│   </span><span style=\"font-weight: bold\">}</span>,\n",
              "<span style=\"color: #7fbf7f; text-decoration-color: #7fbf7f\">│   </span><span style=\"color: #008080; text-decoration-color: #008080; font-weight: bold\">2024</span>: <span style=\"font-weight: bold\">{</span>\n",
              "<span style=\"color: #7fbf7f; text-decoration-color: #7fbf7f\">│   │   </span><span style=\"color: #008000; text-decoration-color: #008000\">'Branch 1'</span>: <span style=\"font-weight: bold\">[</span>\n",
              "<span style=\"color: #7fbf7f; text-decoration-color: #7fbf7f\">│   │   │   </span><span style=\"font-weight: bold\">{</span><span style=\"color: #008000; text-decoration-color: #008000\">'Roll Number'</span>: <span style=\"color: #008080; text-decoration-color: #008080; font-weight: bold\">9</span>, <span style=\"color: #008000; text-decoration-color: #008000\">'Name'</span>: <span style=\"color: #008000; text-decoration-color: #008000\">'I'</span>, <span style=\"color: #008000; text-decoration-color: #008000\">'Marks'</span>: <span style=\"font-weight: bold\">{</span><span style=\"color: #008000; text-decoration-color: #008000\">'Maths'</span>: <span style=\"color: #008080; text-decoration-color: #008080; font-weight: bold\">100</span>, <span style=\"color: #008000; text-decoration-color: #008000\">'English'</span>: <span style=\"color: #008080; text-decoration-color: #008080; font-weight: bold\">70</span><span style=\"font-weight: bold\">}}</span>,\n",
              "<span style=\"color: #7fbf7f; text-decoration-color: #7fbf7f\">│   │   │   </span><span style=\"font-weight: bold\">{</span><span style=\"color: #008000; text-decoration-color: #008000\">'Roll Number'</span>: <span style=\"color: #008080; text-decoration-color: #008080; font-weight: bold\">10</span>, <span style=\"color: #008000; text-decoration-color: #008000\">'Name'</span>: <span style=\"color: #008000; text-decoration-color: #008000\">'J'</span>, <span style=\"color: #008000; text-decoration-color: #008000\">'Marks'</span>: <span style=\"font-weight: bold\">{</span><span style=\"color: #008000; text-decoration-color: #008000\">'Maths'</span>: <span style=\"color: #008080; text-decoration-color: #008080; font-weight: bold\">90</span>, <span style=\"color: #008000; text-decoration-color: #008000\">'English'</span>: <span style=\"color: #008080; text-decoration-color: #008080; font-weight: bold\">80</span><span style=\"font-weight: bold\">}}</span>\n",
              "<span style=\"color: #7fbf7f; text-decoration-color: #7fbf7f\">│   │   </span><span style=\"font-weight: bold\">]</span>,\n",
              "<span style=\"color: #7fbf7f; text-decoration-color: #7fbf7f\">│   │   </span><span style=\"color: #008000; text-decoration-color: #008000\">'Branch 2'</span>: <span style=\"font-weight: bold\">[</span>\n",
              "<span style=\"color: #7fbf7f; text-decoration-color: #7fbf7f\">│   │   │   </span><span style=\"font-weight: bold\">{</span><span style=\"color: #008000; text-decoration-color: #008000\">'Roll Number'</span>: <span style=\"color: #008080; text-decoration-color: #008080; font-weight: bold\">11</span>, <span style=\"color: #008000; text-decoration-color: #008000\">'Name'</span>: <span style=\"color: #008000; text-decoration-color: #008000\">'K'</span>, <span style=\"color: #008000; text-decoration-color: #008000\">'Marks'</span>: <span style=\"font-weight: bold\">{</span><span style=\"color: #008000; text-decoration-color: #008000\">'Maths'</span>: <span style=\"color: #008080; text-decoration-color: #008080; font-weight: bold\">100</span>, <span style=\"color: #008000; text-decoration-color: #008000\">'English'</span>: <span style=\"color: #008080; text-decoration-color: #008080; font-weight: bold\">70</span><span style=\"font-weight: bold\">}}</span>,\n",
              "<span style=\"color: #7fbf7f; text-decoration-color: #7fbf7f\">│   │   │   </span><span style=\"font-weight: bold\">{</span><span style=\"color: #008000; text-decoration-color: #008000\">'Roll Number'</span>: <span style=\"color: #008080; text-decoration-color: #008080; font-weight: bold\">12</span>, <span style=\"color: #008000; text-decoration-color: #008000\">'Name'</span>: <span style=\"color: #008000; text-decoration-color: #008000\">'L'</span>, <span style=\"color: #008000; text-decoration-color: #008000\">'Marks'</span>: <span style=\"font-weight: bold\">{</span><span style=\"color: #008000; text-decoration-color: #008000\">'Maths'</span>: <span style=\"color: #008080; text-decoration-color: #008080; font-weight: bold\">90</span>, <span style=\"color: #008000; text-decoration-color: #008000\">'English'</span>: <span style=\"color: #008080; text-decoration-color: #008080; font-weight: bold\">80</span><span style=\"font-weight: bold\">}}</span>\n",
              "<span style=\"color: #7fbf7f; text-decoration-color: #7fbf7f\">│   │   </span><span style=\"font-weight: bold\">]</span>\n",
              "<span style=\"color: #7fbf7f; text-decoration-color: #7fbf7f\">│   </span><span style=\"font-weight: bold\">}</span>,\n",
              "<span style=\"color: #7fbf7f; text-decoration-color: #7fbf7f\">│   </span><span style=\"color: #008080; text-decoration-color: #008080; font-weight: bold\">2025</span>: <span style=\"font-weight: bold\">{</span>\n",
              "<span style=\"color: #7fbf7f; text-decoration-color: #7fbf7f\">│   │   </span><span style=\"color: #008000; text-decoration-color: #008000\">'Branch 1'</span>: <span style=\"font-weight: bold\">[</span>\n",
              "<span style=\"color: #7fbf7f; text-decoration-color: #7fbf7f\">│   │   │   </span><span style=\"font-weight: bold\">{</span><span style=\"color: #008000; text-decoration-color: #008000\">'Roll Number'</span>: <span style=\"color: #008080; text-decoration-color: #008080; font-weight: bold\">13</span>, <span style=\"color: #008000; text-decoration-color: #008000\">'Name'</span>: <span style=\"color: #008000; text-decoration-color: #008000\">'M'</span>, <span style=\"color: #008000; text-decoration-color: #008000\">'Marks'</span>: <span style=\"font-weight: bold\">{</span><span style=\"color: #008000; text-decoration-color: #008000\">'Maths'</span>: <span style=\"color: #008080; text-decoration-color: #008080; font-weight: bold\">100</span>, <span style=\"color: #008000; text-decoration-color: #008000\">'English'</span>: <span style=\"color: #008080; text-decoration-color: #008080; font-weight: bold\">70</span><span style=\"font-weight: bold\">}}</span>,\n",
              "<span style=\"color: #7fbf7f; text-decoration-color: #7fbf7f\">│   │   │   </span><span style=\"font-weight: bold\">{</span><span style=\"color: #008000; text-decoration-color: #008000\">'Roll Number'</span>: <span style=\"color: #008080; text-decoration-color: #008080; font-weight: bold\">14</span>, <span style=\"color: #008000; text-decoration-color: #008000\">'Name'</span>: <span style=\"color: #008000; text-decoration-color: #008000\">'N'</span>, <span style=\"color: #008000; text-decoration-color: #008000\">'Marks'</span>: <span style=\"font-weight: bold\">{</span><span style=\"color: #008000; text-decoration-color: #008000\">'Maths'</span>: <span style=\"color: #008080; text-decoration-color: #008080; font-weight: bold\">90</span>, <span style=\"color: #008000; text-decoration-color: #008000\">'English'</span>: <span style=\"color: #008080; text-decoration-color: #008080; font-weight: bold\">80</span><span style=\"font-weight: bold\">}}</span>\n",
              "<span style=\"color: #7fbf7f; text-decoration-color: #7fbf7f\">│   │   </span><span style=\"font-weight: bold\">]</span>,\n",
              "<span style=\"color: #7fbf7f; text-decoration-color: #7fbf7f\">│   │   </span><span style=\"color: #008000; text-decoration-color: #008000\">'Branch 2'</span>: <span style=\"font-weight: bold\">[</span>\n",
              "<span style=\"color: #7fbf7f; text-decoration-color: #7fbf7f\">│   │   │   </span><span style=\"font-weight: bold\">{</span><span style=\"color: #008000; text-decoration-color: #008000\">'Roll Number'</span>: <span style=\"color: #008080; text-decoration-color: #008080; font-weight: bold\">15</span>, <span style=\"color: #008000; text-decoration-color: #008000\">'Name'</span>: <span style=\"color: #008000; text-decoration-color: #008000\">'O'</span>, <span style=\"color: #008000; text-decoration-color: #008000\">'Marks'</span>: <span style=\"font-weight: bold\">{</span><span style=\"color: #008000; text-decoration-color: #008000\">'Maths'</span>: <span style=\"color: #008080; text-decoration-color: #008080; font-weight: bold\">100</span>, <span style=\"color: #008000; text-decoration-color: #008000\">'English'</span>: <span style=\"color: #008080; text-decoration-color: #008080; font-weight: bold\">70</span><span style=\"font-weight: bold\">}}</span>,\n",
              "<span style=\"color: #7fbf7f; text-decoration-color: #7fbf7f\">│   │   │   </span><span style=\"font-weight: bold\">{</span><span style=\"color: #008000; text-decoration-color: #008000\">'Roll Number'</span>: <span style=\"color: #008080; text-decoration-color: #008080; font-weight: bold\">16</span>, <span style=\"color: #008000; text-decoration-color: #008000\">'Name'</span>: <span style=\"color: #008000; text-decoration-color: #008000\">'P'</span>, <span style=\"color: #008000; text-decoration-color: #008000\">'Marks'</span>: <span style=\"font-weight: bold\">{</span><span style=\"color: #008000; text-decoration-color: #008000\">'Maths'</span>: <span style=\"color: #008080; text-decoration-color: #008080; font-weight: bold\">90</span>, <span style=\"color: #008000; text-decoration-color: #008000\">'English'</span>: <span style=\"color: #008080; text-decoration-color: #008080; font-weight: bold\">80</span><span style=\"font-weight: bold\">}}</span>\n",
              "<span style=\"color: #7fbf7f; text-decoration-color: #7fbf7f\">│   │   </span><span style=\"font-weight: bold\">]</span>\n",
              "<span style=\"color: #7fbf7f; text-decoration-color: #7fbf7f\">│   </span><span style=\"font-weight: bold\">}</span>\n",
              "<span style=\"font-weight: bold\">}</span>\n",
              "</pre>\n"
            ]
          },
          "metadata": {}
        }
      ]
    },
    {
      "cell_type": "markdown",
      "source": [
        "## 8"
      ],
      "metadata": {
        "id": "MaOJEG5j1U44"
      }
    },
    {
      "cell_type": "code",
      "source": [],
      "metadata": {
        "id": "rpJFg9Lh1Wby"
      },
      "execution_count": null,
      "outputs": []
    },
    {
      "cell_type": "markdown",
      "source": [
        "## 9"
      ],
      "metadata": {
        "id": "a4kK7IQy1J7v"
      }
    },
    {
      "cell_type": "code",
      "source": [
        "import matplotlib.pyplot as plt\n",
        "%matplotlib inline"
      ],
      "metadata": {
        "id": "BD61Tnew1gFG"
      },
      "execution_count": 87,
      "outputs": []
    },
    {
      "cell_type": "code",
      "source": [
        "x = np.arange(0.5, 100.0, 0.5)"
      ],
      "metadata": {
        "id": "qIbQWKLl04EK"
      },
      "execution_count": 91,
      "outputs": []
    },
    {
      "cell_type": "markdown",
      "source": [
        "1. $y=x$"
      ],
      "metadata": {
        "id": "pWFUul8z1Zou"
      }
    },
    {
      "cell_type": "code",
      "source": [
        "y = x\n",
        "plt.figure(figsize=(8, 8))\n",
        "plt.plot(x, y)\n",
        "plt.xlabel(\"x\")\n",
        "plt.ylabel(\"y\")\n",
        "plt.title(\"y=x\")\n",
        "plt.show()"
      ],
      "metadata": {
        "colab": {
          "base_uri": "https://localhost:8080/",
          "height": 513
        },
        "id": "0uy8zR_l2UUX",
        "outputId": "c885ea7c-3577-4b23-d48a-1054079ce15d"
      },
      "execution_count": 98,
      "outputs": [
        {
          "output_type": "display_data",
          "data": {
            "text/plain": [
              "<Figure size 576x576 with 1 Axes>"
            ],
            "image/png": "[encoded data removed]"
          },
          "metadata": {
            "needs_background": "light"
          }
        }
      ]
    },
    {
      "cell_type": "markdown",
      "source": [
        "2. $y=x^{2}$"
      ],
      "metadata": {
        "id": "w9sJedw72YE0"
      }
    },
    {
      "cell_type": "code",
      "source": [
        "y = x**2\n",
        "plt.figure(figsize=(8, 8))\n",
        "plt.plot(x, y)\n",
        "plt.xlabel(\"x\")\n",
        "plt.ylabel(\"y\")\n",
        "plt.title(\"y=x^2\")\n",
        "plt.show()"
      ],
      "metadata": {
        "colab": {
          "base_uri": "https://localhost:8080/",
          "height": 513
        },
        "id": "07UzLUNj2XpL",
        "outputId": "65268d65-bdfb-48ad-a047-2d7b41a076a7"
      },
      "execution_count": 97,
      "outputs": [
        {
          "output_type": "display_data",
          "data": {
            "text/plain": [
              "<Figure size 576x576 with 1 Axes>"
            ],
            "image/png": "[encoded data removed]"
          },
          "metadata": {
            "needs_background": "light"
          }
        }
      ]
    },
    {
      "cell_type": "markdown",
      "source": [
        "3. $y=x^{3}/100$"
      ],
      "metadata": {
        "id": "wggzHxPP22Xy"
      }
    },
    {
      "cell_type": "code",
      "source": [
        "y = x**3 / 100\n",
        "plt.figure(figsize=(8, 8))\n",
        "plt.plot(x, y)\n",
        "plt.xlabel(\"x\")\n",
        "plt.ylabel(\"y\")\n",
        "plt.title(\"y=x^3/100\")\n",
        "plt.show()"
      ],
      "metadata": {
        "colab": {
          "base_uri": "https://localhost:8080/",
          "height": 513
        },
        "id": "pUjeDspA298Y",
        "outputId": "35fc5938-be2d-4cbd-bdf0-64c96c9e4071"
      },
      "execution_count": 102,
      "outputs": [
        {
          "output_type": "display_data",
          "data": {
            "text/plain": [
              "<Figure size 576x576 with 1 Axes>"
            ],
            "image/png": "[encoded data removed]"
          },
          "metadata": {
            "needs_background": "light"
          }
        }
      ]
    },
    {
      "cell_type": "markdown",
      "source": [
        "4. $y=sin(x)$"
      ],
      "metadata": {
        "id": "PBK-EioW3K8N"
      }
    },
    {
      "cell_type": "code",
      "source": [
        "y = np.sin(x)\n",
        "plt.figure(figsize=(8, 3))\n",
        "plt.plot(x, y)\n",
        "plt.xlabel(\"x\")\n",
        "plt.ylabel(\"y\")\n",
        "plt.title(\"y=sin(x)\")\n",
        "plt.show()"
      ],
      "metadata": {
        "colab": {
          "base_uri": "https://localhost:8080/",
          "height": 241
        },
        "id": "IIy42LLp3t4u",
        "outputId": "2c4f6686-6f66-4ba2-db6b-e7f89efda45a"
      },
      "execution_count": 108,
      "outputs": [
        {
          "output_type": "display_data",
          "data": {
            "text/plain": [
              "<Figure size 576x216 with 1 Axes>"
            ],
            "image/png": "[encoded data removed]"
          },
          "metadata": {
            "needs_background": "light"
          }
        }
      ]
    },
    {
      "cell_type": "markdown",
      "source": [
        "5. $y=sin(x)$"
      ],
      "metadata": {
        "id": "Stw40f883bdf"
      }
    },
    {
      "cell_type": "code",
      "source": [
        "y = np.sin(x)\n",
        "plt.figure(figsize=(8, 3))\n",
        "plt.plot(x, y)\n",
        "plt.xlabel(\"x\")\n",
        "plt.ylabel(\"y\")\n",
        "plt.title(\"y=sin(x)\")\n",
        "plt.show()"
      ],
      "metadata": {
        "colab": {
          "base_uri": "https://localhost:8080/",
          "height": 241
        },
        "id": "MKCYhqP535ae",
        "outputId": "c10193f9-49b0-4a89-eaba-503c5e764774"
      },
      "execution_count": 109,
      "outputs": [
        {
          "output_type": "display_data",
          "data": {
            "text/plain": [
              "<Figure size 576x216 with 1 Axes>"
            ],
            "image/png": "[encoded data removed]"
          },
          "metadata": {
            "needs_background": "light"
          }
        }
      ]
    },
    {
      "cell_type": "markdown",
      "source": [
        "6. $y=log(x)$"
      ],
      "metadata": {
        "id": "DCxHdJAT3hCJ"
      }
    },
    {
      "cell_type": "code",
      "source": [
        "y = np.log10(x)\n",
        "plt.figure(figsize=(8, 8))\n",
        "plt.plot(x, y)\n",
        "plt.xlabel(\"x\")\n",
        "plt.ylabel(\"y\")\n",
        "plt.title(\"y=log(x)\")\n",
        "plt.show()"
      ],
      "metadata": {
        "colab": {
          "base_uri": "https://localhost:8080/",
          "height": 513
        },
        "id": "U_4pKE5E39Rj",
        "outputId": "d253217a-507d-4e1d-d94d-217c0fbe3bf9"
      },
      "execution_count": 112,
      "outputs": [
        {
          "output_type": "display_data",
          "data": {
            "text/plain": [
              "<Figure size 576x576 with 1 Axes>"
            ],
            "image/png": "[encoded data removed]"
          },
          "metadata": {
            "needs_background": "light"
          }
        }
      ]
    },
    {
      "cell_type": "markdown",
      "source": [
        "7. $y=e^{x}$"
      ],
      "metadata": {
        "id": "JSfSFvBd3llm"
      }
    },
    {
      "cell_type": "code",
      "source": [
        "y = np.exp(x)\n",
        "plt.figure(figsize=(10, 5))\n",
        "plt.plot(x, y)\n",
        "plt.xlabel(\"x\")\n",
        "plt.ylabel(\"y\")\n",
        "plt.title(\"y=e^x\")\n",
        "plt.show()"
      ],
      "metadata": {
        "colab": {
          "base_uri": "https://localhost:8080/",
          "height": 350
        },
        "id": "DpAZ9k9Z4Pu-",
        "outputId": "36a6c5bd-0f30-488b-9906-02b1ec419706"
      },
      "execution_count": 115,
      "outputs": [
        {
          "output_type": "display_data",
          "data": {
            "text/plain": [
              "<Figure size 720x360 with 1 Axes>"
            ],
            "image/png": "[encoded data removed]"
          },
          "metadata": {
            "needs_background": "light"
          }
        }
      ]
    },
    {
      "cell_type": "markdown",
      "source": [
        "## 10"
      ],
      "metadata": {
        "id": "PPwWV2_e1MK2"
      }
    },
    {
      "cell_type": "code",
      "source": [
        "matrix = np.random.uniform(low=1, high=2, size=(20, 5))\n",
        "print(matrix.shape)\n",
        "matrix"
      ],
      "metadata": {
        "colab": {
          "base_uri": "https://localhost:8080/"
        },
        "id": "uXoq841F1NeL",
        "outputId": "fbbe8015-49ac-428f-d47a-a64170df48b7"
      },
      "execution_count": 116,
      "outputs": [
        {
          "output_type": "stream",
          "name": "stdout",
          "text": [
            "(20, 5)\n"
          ]
        },
        {
          "output_type": "execute_result",
          "data": {
            "text/plain": [
              "array([[1.80447913, 1.65467427, 1.21290325, 1.2942455 , 1.71263953],\n",
              "       [1.37400161, 1.77289655, 1.38230185, 1.63939878, 1.42081748],\n",
              "       [1.49985891, 1.81857724, 1.24824171, 1.46942987, 1.51758666],\n",
              "       [1.59150883, 1.4415124 , 1.46523082, 1.4461668 , 1.79497379],\n",
              "       [1.81823616, 1.37775813, 1.73465604, 1.06559348, 1.0989231 ],\n",
              "       [1.41457879, 1.9457704 , 1.62069876, 1.69922688, 1.94683483],\n",
              "       [1.24148785, 1.70060653, 1.03105988, 1.28875529, 1.6281753 ],\n",
              "       [1.66960565, 1.32284602, 1.17568263, 1.29660756, 1.2574033 ],\n",
              "       [1.50690306, 1.35447236, 1.90157276, 1.73442204, 1.89648079],\n",
              "       [1.57131733, 1.36787935, 1.37703041, 1.60971803, 1.44690833],\n",
              "       [1.18177254, 1.91622372, 1.44518835, 1.89926682, 1.02548581],\n",
              "       [1.0172893 , 1.92413608, 1.18958686, 1.15162687, 1.04697097],\n",
              "       [1.70486795, 1.50936764, 1.98004043, 1.83122854, 1.12222636],\n",
              "       [1.40840446, 1.95101765, 1.16939413, 1.51820474, 1.20110128],\n",
              "       [1.69234304, 1.79339238, 1.68788957, 1.44816066, 1.84829565],\n",
              "       [1.69603051, 1.14556549, 1.10414166, 1.02137076, 1.09443477],\n",
              "       [1.68305881, 1.79836046, 1.97535017, 1.61495578, 1.35871533],\n",
              "       [1.020614  , 1.27602597, 1.1708616 , 1.63456244, 1.49495711],\n",
              "       [1.79927822, 1.25530985, 1.36956866, 1.09430269, 1.31876541],\n",
              "       [1.05550566, 1.29917523, 1.97445825, 1.40008737, 1.38146063]])"
            ]
          },
          "metadata": {},
          "execution_count": 116
        }
      ]
    },
    {
      "cell_type": "code",
      "source": [
        "import pandas as pd"
      ],
      "metadata": {
        "id": "uPiUqTVf5vzr"
      },
      "execution_count": 117,
      "outputs": []
    },
    {
      "cell_type": "code",
      "source": [
        "df = pd.DataFrame(matrix, columns=[\"a\", \"b\", \"c\", \"d\", \"e\"])\n",
        "df"
      ],
      "metadata": {
        "colab": {
          "base_uri": "https://localhost:8080/",
          "height": 677
        },
        "id": "XCu_R3OC50Ta",
        "outputId": "18290300-caf9-410a-f991-f99ed1a4eccc"
      },
      "execution_count": 165,
      "outputs": [
        {
          "output_type": "execute_result",
          "data": {
            "text/plain": [
              "           a         b         c         d         e\n",
              "0   1.804479  1.654674  1.212903  1.294245  1.712640\n",
              "1   1.374002  1.772897  1.382302  1.639399  1.420817\n",
              "2   1.499859  1.818577  1.248242  1.469430  1.517587\n",
              "3   1.591509  1.441512  1.465231  1.446167  1.794974\n",
              "4   1.818236  1.377758  1.734656  1.065593  1.098923\n",
              "5   1.414579  1.945770  1.620699  1.699227  1.946835\n",
              "6   1.241488  1.700607  1.031060  1.288755  1.628175\n",
              "7   1.669606  1.322846  1.175683  1.296608  1.257403\n",
              "8   1.506903  1.354472  1.901573  1.734422  1.896481\n",
              "9   1.571317  1.367879  1.377030  1.609718  1.446908\n",
              "10  1.181773  1.916224  1.445188  1.899267  1.025486\n",
              "11  1.017289  1.924136  1.189587  1.151627  1.046971\n",
              "12  1.704868  1.509368  1.980040  1.831229  1.122226\n",
              "13  1.408404  1.951018  1.169394  1.518205  1.201101\n",
              "14  1.692343  1.793392  1.687890  1.448161  1.848296\n",
              "15  1.696031  1.145565  1.104142  1.021371  1.094435\n",
              "16  1.683059  1.798360  1.975350  1.614956  1.358715\n",
              "17  1.020614  1.276026  1.170862  1.634562  1.494957\n",
              "18  1.799278  1.255310  1.369569  1.094303  1.318765\n",
              "19  1.055506  1.299175  1.974458  1.400087  1.381461"
            ],
            "text/html": [
              "\n",
              "  <div id=\"df-c7f0e54a-4e8e-4e2e-8fd4-6a2f695d6d1d\">\n",
              "    <div class=\"colab-df-container\">\n",
              "      <div>\n",
              "<style scoped>\n",
              "    .dataframe tbody tr th:only-of-type {\n",
              "        vertical-align: middle;\n",
              "    }\n",
              "\n",
              "    .dataframe tbody tr th {\n",
              "        vertical-align: top;\n",
              "    }\n",
              "\n",
              "    .dataframe thead th {\n",
              "        text-align: right;\n",
              "    }\n",
              "</style>\n",
              "<table border=\"1\" class=\"dataframe\">\n",
              "  <thead>\n",
              "    <tr style=\"text-align: right;\">\n",
              "      <th></th>\n",
              "      <th>a</th>\n",
              "      <th>b</th>\n",
              "      <th>c</th>\n",
              "      <th>d</th>\n",
              "      <th>e</th>\n",
              "    </tr>\n",
              "  </thead>\n",
              "  <tbody>\n",
              "    <tr>\n",
              "      <th>0</th>\n",
              "      <td>1.804479</td>\n",
              "      <td>1.654674</td>\n",
              "      <td>1.212903</td>\n",
              "      <td>1.294245</td>\n",
              "      <td>1.712640</td>\n",
              "    </tr>\n",
              "    <tr>\n",
              "      <th>1</th>\n",
              "      <td>1.374002</td>\n",
              "      <td>1.772897</td>\n",
              "      <td>1.382302</td>\n",
              "      <td>1.639399</td>\n",
              "      <td>1.420817</td>\n",
              "    </tr>\n",
              "    <tr>\n",
              "      <th>2</th>\n",
              "      <td>1.499859</td>\n",
              "      <td>1.818577</td>\n",
              "      <td>1.248242</td>\n",
              "      <td>1.469430</td>\n",
              "      <td>1.517587</td>\n",
              "    </tr>\n",
              "    <tr>\n",
              "      <th>3</th>\n",
              "      <td>1.591509</td>\n",
              "      <td>1.441512</td>\n",
              "      <td>1.465231</td>\n",
              "      <td>1.446167</td>\n",
              "      <td>1.794974</td>\n",
              "    </tr>\n",
              "    <tr>\n",
              "      <th>4</th>\n",
              "      <td>1.818236</td>\n",
              "      <td>1.377758</td>\n",
              "      <td>1.734656</td>\n",
              "      <td>1.065593</td>\n",
              "      <td>1.098923</td>\n",
              "    </tr>\n",
              "    <tr>\n",
              "      <th>5</th>\n",
              "      <td>1.414579</td>\n",
              "      <td>1.945770</td>\n",
              "      <td>1.620699</td>\n",
              "      <td>1.699227</td>\n",
              "      <td>1.946835</td>\n",
              "    </tr>\n",
              "    <tr>\n",
              "      <th>6</th>\n",
              "      <td>1.241488</td>\n",
              "      <td>1.700607</td>\n",
              "      <td>1.031060</td>\n",
              "      <td>1.288755</td>\n",
              "      <td>1.628175</td>\n",
              "    </tr>\n",
              "    <tr>\n",
              "      <th>7</th>\n",
              "      <td>1.669606</td>\n",
              "      <td>1.322846</td>\n",
              "      <td>1.175683</td>\n",
              "      <td>1.296608</td>\n",
              "      <td>1.257403</td>\n",
              "    </tr>\n",
              "    <tr>\n",
              "      <th>8</th>\n",
              "      <td>1.506903</td>\n",
              "      <td>1.354472</td>\n",
              "      <td>1.901573</td>\n",
              "      <td>1.734422</td>\n",
              "      <td>1.896481</td>\n",
              "    </tr>\n",
              "    <tr>\n",
              "      <th>9</th>\n",
              "      <td>1.571317</td>\n",
              "      <td>1.367879</td>\n",
              "      <td>1.377030</td>\n",
              "      <td>1.609718</td>\n",
              "      <td>1.446908</td>\n",
              "    </tr>\n",
              "    <tr>\n",
              "      <th>10</th>\n",
              "      <td>1.181773</td>\n",
              "      <td>1.916224</td>\n",
              "      <td>1.445188</td>\n",
              "      <td>1.899267</td>\n",
              "      <td>1.025486</td>\n",
              "    </tr>\n",
              "    <tr>\n",
              "      <th>11</th>\n",
              "      <td>1.017289</td>\n",
              "      <td>1.924136</td>\n",
              "      <td>1.189587</td>\n",
              "      <td>1.151627</td>\n",
              "      <td>1.046971</td>\n",
              "    </tr>\n",
              "    <tr>\n",
              "      <th>12</th>\n",
              "      <td>1.704868</td>\n",
              "      <td>1.509368</td>\n",
              "      <td>1.980040</td>\n",
              "      <td>1.831229</td>\n",
              "      <td>1.122226</td>\n",
              "    </tr>\n",
              "    <tr>\n",
              "      <th>13</th>\n",
              "      <td>1.408404</td>\n",
              "      <td>1.951018</td>\n",
              "      <td>1.169394</td>\n",
              "      <td>1.518205</td>\n",
              "      <td>1.201101</td>\n",
              "    </tr>\n",
              "    <tr>\n",
              "      <th>14</th>\n",
              "      <td>1.692343</td>\n",
              "      <td>1.793392</td>\n",
              "      <td>1.687890</td>\n",
              "      <td>1.448161</td>\n",
              "      <td>1.848296</td>\n",
              "    </tr>\n",
              "    <tr>\n",
              "      <th>15</th>\n",
              "      <td>1.696031</td>\n",
              "      <td>1.145565</td>\n",
              "      <td>1.104142</td>\n",
              "      <td>1.021371</td>\n",
              "      <td>1.094435</td>\n",
              "    </tr>\n",
              "    <tr>\n",
              "      <th>16</th>\n",
              "      <td>1.683059</td>\n",
              "      <td>1.798360</td>\n",
              "      <td>1.975350</td>\n",
              "      <td>1.614956</td>\n",
              "      <td>1.358715</td>\n",
              "    </tr>\n",
              "    <tr>\n",
              "      <th>17</th>\n",
              "      <td>1.020614</td>\n",
              "      <td>1.276026</td>\n",
              "      <td>1.170862</td>\n",
              "      <td>1.634562</td>\n",
              "      <td>1.494957</td>\n",
              "    </tr>\n",
              "    <tr>\n",
              "      <th>18</th>\n",
              "      <td>1.799278</td>\n",
              "      <td>1.255310</td>\n",
              "      <td>1.369569</td>\n",
              "      <td>1.094303</td>\n",
              "      <td>1.318765</td>\n",
              "    </tr>\n",
              "    <tr>\n",
              "      <th>19</th>\n",
              "      <td>1.055506</td>\n",
              "      <td>1.299175</td>\n",
              "      <td>1.974458</td>\n",
              "      <td>1.400087</td>\n",
              "      <td>1.381461</td>\n",
              "    </tr>\n",
              "  </tbody>\n",
              "</table>\n",
              "</div>\n",
              "      <button class=\"colab-df-convert\" onclick=\"convertToInteractive('df-c7f0e54a-4e8e-4e2e-8fd4-6a2f695d6d1d')\"\n",
              "              title=\"Convert this dataframe to an interactive table.\"\n",
              "              style=\"display:none;\">\n",
              "        \n",
              "  <svg xmlns=\"http://www.w3.org/2000/svg\" height=\"24px\"viewBox=\"0 0 24 24\"\n",
              "       width=\"24px\">\n",
              "    <path d=\"M0 0h24v24H0V0z\" fill=\"none\"/>\n",
              "    <path d=\"M18.56 5.44l.94 2.06.94-2.06 2.06-.94-2.06-.94-.94-2.06-.94 2.06-2.06.94zm-11 1L8.5 8.5l.94-2.06 2.06-.94-2.06-.94L8.5 2.5l-.94 2.06-2.06.94zm10 10l.94 2.06.94-2.06 2.06-.94-2.06-.94-.94-2.06-.94 2.06-2.06.94z\"/><path d=\"M17.41 7.96l-1.37-1.37c-.4-.4-.92-.59-1.43-.59-.52 0-1.04.2-1.43.59L10.3 9.45l-7.72 7.72c-.78.78-.78 2.05 0 2.83L4 21.41c.39.39.9.59 1.41.59.51 0 1.02-.2 1.41-.59l7.78-7.78 2.81-2.81c.8-.78.8-2.07 0-2.86zM5.41 20L4 18.59l7.72-7.72 1.47 1.35L5.41 20z\"/>\n",
              "  </svg>\n",
              "      </button>\n",
              "      \n",
              "  <style>\n",
              "    .colab-df-container {\n",
              "      display:flex;\n",
              "      flex-wrap:wrap;\n",
              "      gap: 12px;\n",
              "    }\n",
              "\n",
              "    .colab-df-convert {\n",
              "      background-color: #E8F0FE;\n",
              "      border: none;\n",
              "      border-radius: 50%;\n",
              "      cursor: pointer;\n",
              "      display: none;\n",
              "      fill: #1967D2;\n",
              "      height: 32px;\n",
              "      padding: 0 0 0 0;\n",
              "      width: 32px;\n",
              "    }\n",
              "\n",
              "    .colab-df-convert:hover {\n",
              "      background-color: #E2EBFA;\n",
              "      box-shadow: 0px 1px 2px rgba(60, 64, 67, 0.3), 0px 1px 3px 1px rgba(60, 64, 67, 0.15);\n",
              "      fill: #174EA6;\n",
              "    }\n",
              "\n",
              "    [theme=dark] .colab-df-convert {\n",
              "      background-color: #3B4455;\n",
              "      fill: #D2E3FC;\n",
              "    }\n",
              "\n",
              "    [theme=dark] .colab-df-convert:hover {\n",
              "      background-color: #434B5C;\n",
              "      box-shadow: 0px 1px 3px 1px rgba(0, 0, 0, 0.15);\n",
              "      filter: drop-shadow(0px 1px 2px rgba(0, 0, 0, 0.3));\n",
              "      fill: #FFFFFF;\n",
              "    }\n",
              "  </style>\n",
              "\n",
              "      <script>\n",
              "        const buttonEl =\n",
              "          document.querySelector('#df-c7f0e54a-4e8e-4e2e-8fd4-6a2f695d6d1d button.colab-df-convert');\n",
              "        buttonEl.style.display =\n",
              "          google.colab.kernel.accessAllowed ? 'block' : 'none';\n",
              "\n",
              "        async function convertToInteractive(key) {\n",
              "          const element = document.querySelector('#df-c7f0e54a-4e8e-4e2e-8fd4-6a2f695d6d1d');\n",
              "          const dataTable =\n",
              "            await google.colab.kernel.invokeFunction('convertToInteractive',\n",
              "                                                     [key], {});\n",
              "          if (!dataTable) return;\n",
              "\n",
              "          const docLinkHtml = 'Like what you see? Visit the ' +\n",
              "            '<a target=\"_blank\" href=https://colab.research.google.com/notebooks/data_table.ipynb>data table notebook</a>'\n",
              "            + ' to learn more about interactive tables.';\n",
              "          element.innerHTML = '';\n",
              "          dataTable['output_type'] = 'display_data';\n",
              "          await google.colab.output.renderOutput(dataTable, element);\n",
              "          const docLink = document.createElement('div');\n",
              "          docLink.innerHTML = docLinkHtml;\n",
              "          element.appendChild(docLink);\n",
              "        }\n",
              "      </script>\n",
              "    </div>\n",
              "  </div>\n",
              "  "
            ]
          },
          "metadata": {},
          "execution_count": 165
        }
      ]
    },
    {
      "cell_type": "code",
      "source": [
        "stds = []\n",
        "for i in df.columns:\n",
        "  stds.append((i, df[i].std()))\n",
        "stds = sorted(stds, key=lambda x: x[1], reverse=True)\n",
        "print(\"Column with highest standard deviation is\", stds[0][0], \"with\", stds[0][1])\n",
        "\n"
      ],
      "metadata": {
        "colab": {
          "base_uri": "https://localhost:8080/"
        },
        "id": "IuQYWYQb6O9-",
        "outputId": "631429f4-eb78-4544-ab0e-45ef1dc549fe"
      },
      "execution_count": 166,
      "outputs": [
        {
          "output_type": "stream",
          "name": "stdout",
          "text": [
            "Column with highest standard deviation is c with 0.3169545766501406\n"
          ]
        }
      ]
    },
    {
      "cell_type": "code",
      "source": [
        "r = df.copy()\n",
        "r[\"r_mean\"] = r.mean(axis=1)\n",
        "r = r[r[\"r_mean\"] == r[\"r_mean\"].min()].copy()\n",
        "r.drop([\"r_mean\"], axis=1, inplace=True)\n",
        "print(\"Row with the least mean is:\")\n",
        "print(r)"
      ],
      "metadata": {
        "colab": {
          "base_uri": "https://localhost:8080/"
        },
        "id": "LNEx992P8WMV",
        "outputId": "40c31a2c-b324-48aa-f3ae-6549e02fdca6"
      },
      "execution_count": 168,
      "outputs": [
        {
          "output_type": "stream",
          "name": "stdout",
          "text": [
            "Row with the least mean is:\n",
            "           a         b         c         d         e\n",
            "15  1.696031  1.145565  1.104142  1.021371  1.094435\n"
          ]
        }
      ]
    },
    {
      "cell_type": "markdown",
      "source": [
        "## 11"
      ],
      "metadata": {
        "id": "EMe5RpE05D4r"
      }
    },
    {
      "cell_type": "code",
      "source": [
        "df[\"f\"] = df.sum(axis=1)\n",
        "df"
      ],
      "metadata": {
        "colab": {
          "base_uri": "https://localhost:8080/",
          "height": 677
        },
        "id": "RSwg-Dhb5Ggn",
        "outputId": "88802db1-d5d7-4610-a206-2e3f55c53b2a"
      },
      "execution_count": 169,
      "outputs": [
        {
          "output_type": "execute_result",
          "data": {
            "text/plain": [
              "           a         b         c         d         e         f\n",
              "0   1.804479  1.654674  1.212903  1.294245  1.712640  7.678942\n",
              "1   1.374002  1.772897  1.382302  1.639399  1.420817  7.589416\n",
              "2   1.499859  1.818577  1.248242  1.469430  1.517587  7.553694\n",
              "3   1.591509  1.441512  1.465231  1.446167  1.794974  7.739393\n",
              "4   1.818236  1.377758  1.734656  1.065593  1.098923  7.095167\n",
              "5   1.414579  1.945770  1.620699  1.699227  1.946835  8.627110\n",
              "6   1.241488  1.700607  1.031060  1.288755  1.628175  6.890085\n",
              "7   1.669606  1.322846  1.175683  1.296608  1.257403  6.722145\n",
              "8   1.506903  1.354472  1.901573  1.734422  1.896481  8.393851\n",
              "9   1.571317  1.367879  1.377030  1.609718  1.446908  7.372853\n",
              "10  1.181773  1.916224  1.445188  1.899267  1.025486  7.467937\n",
              "11  1.017289  1.924136  1.189587  1.151627  1.046971  6.329610\n",
              "12  1.704868  1.509368  1.980040  1.831229  1.122226  8.147731\n",
              "13  1.408404  1.951018  1.169394  1.518205  1.201101  7.248122\n",
              "14  1.692343  1.793392  1.687890  1.448161  1.848296  8.470081\n",
              "15  1.696031  1.145565  1.104142  1.021371  1.094435  6.061543\n",
              "16  1.683059  1.798360  1.975350  1.614956  1.358715  8.430441\n",
              "17  1.020614  1.276026  1.170862  1.634562  1.494957  6.597021\n",
              "18  1.799278  1.255310  1.369569  1.094303  1.318765  6.837225\n",
              "19  1.055506  1.299175  1.974458  1.400087  1.381461  7.110687"
            ],
            "text/html": [
              "\n",
              "  <div id=\"df-b129a7da-bea0-495c-af0a-b8cb626d7708\">\n",
              "    <div class=\"colab-df-container\">\n",
              "      <div>\n",
              "<style scoped>\n",
              "    .dataframe tbody tr th:only-of-type {\n",
              "        vertical-align: middle;\n",
              "    }\n",
              "\n",
              "    .dataframe tbody tr th {\n",
              "        vertical-align: top;\n",
              "    }\n",
              "\n",
              "    .dataframe thead th {\n",
              "        text-align: right;\n",
              "    }\n",
              "</style>\n",
              "<table border=\"1\" class=\"dataframe\">\n",
              "  <thead>\n",
              "    <tr style=\"text-align: right;\">\n",
              "      <th></th>\n",
              "      <th>a</th>\n",
              "      <th>b</th>\n",
              "      <th>c</th>\n",
              "      <th>d</th>\n",
              "      <th>e</th>\n",
              "      <th>f</th>\n",
              "    </tr>\n",
              "  </thead>\n",
              "  <tbody>\n",
              "    <tr>\n",
              "      <th>0</th>\n",
              "      <td>1.804479</td>\n",
              "      <td>1.654674</td>\n",
              "      <td>1.212903</td>\n",
              "      <td>1.294245</td>\n",
              "      <td>1.712640</td>\n",
              "      <td>7.678942</td>\n",
              "    </tr>\n",
              "    <tr>\n",
              "      <th>1</th>\n",
              "      <td>1.374002</td>\n",
              "      <td>1.772897</td>\n",
              "      <td>1.382302</td>\n",
              "      <td>1.639399</td>\n",
              "      <td>1.420817</td>\n",
              "      <td>7.589416</td>\n",
              "    </tr>\n",
              "    <tr>\n",
              "      <th>2</th>\n",
              "      <td>1.499859</td>\n",
              "      <td>1.818577</td>\n",
              "      <td>1.248242</td>\n",
              "      <td>1.469430</td>\n",
              "      <td>1.517587</td>\n",
              "      <td>7.553694</td>\n",
              "    </tr>\n",
              "    <tr>\n",
              "      <th>3</th>\n",
              "      <td>1.591509</td>\n",
              "      <td>1.441512</td>\n",
              "      <td>1.465231</td>\n",
              "      <td>1.446167</td>\n",
              "      <td>1.794974</td>\n",
              "      <td>7.739393</td>\n",
              "    </tr>\n",
              "    <tr>\n",
              "      <th>4</th>\n",
              "      <td>1.818236</td>\n",
              "      <td>1.377758</td>\n",
              "      <td>1.734656</td>\n",
              "      <td>1.065593</td>\n",
              "      <td>1.098923</td>\n",
              "      <td>7.095167</td>\n",
              "    </tr>\n",
              "    <tr>\n",
              "      <th>5</th>\n",
              "      <td>1.414579</td>\n",
              "      <td>1.945770</td>\n",
              "      <td>1.620699</td>\n",
              "      <td>1.699227</td>\n",
              "      <td>1.946835</td>\n",
              "      <td>8.627110</td>\n",
              "    </tr>\n",
              "    <tr>\n",
              "      <th>6</th>\n",
              "      <td>1.241488</td>\n",
              "      <td>1.700607</td>\n",
              "      <td>1.031060</td>\n",
              "      <td>1.288755</td>\n",
              "      <td>1.628175</td>\n",
              "      <td>6.890085</td>\n",
              "    </tr>\n",
              "    <tr>\n",
              "      <th>7</th>\n",
              "      <td>1.669606</td>\n",
              "      <td>1.322846</td>\n",
              "      <td>1.175683</td>\n",
              "      <td>1.296608</td>\n",
              "      <td>1.257403</td>\n",
              "      <td>6.722145</td>\n",
              "    </tr>\n",
              "    <tr>\n",
              "      <th>8</th>\n",
              "      <td>1.506903</td>\n",
              "      <td>1.354472</td>\n",
              "      <td>1.901573</td>\n",
              "      <td>1.734422</td>\n",
              "      <td>1.896481</td>\n",
              "      <td>8.393851</td>\n",
              "    </tr>\n",
              "    <tr>\n",
              "      <th>9</th>\n",
              "      <td>1.571317</td>\n",
              "      <td>1.367879</td>\n",
              "      <td>1.377030</td>\n",
              "      <td>1.609718</td>\n",
              "      <td>1.446908</td>\n",
              "      <td>7.372853</td>\n",
              "    </tr>\n",
              "    <tr>\n",
              "      <th>10</th>\n",
              "      <td>1.181773</td>\n",
              "      <td>1.916224</td>\n",
              "      <td>1.445188</td>\n",
              "      <td>1.899267</td>\n",
              "      <td>1.025486</td>\n",
              "      <td>7.467937</td>\n",
              "    </tr>\n",
              "    <tr>\n",
              "      <th>11</th>\n",
              "      <td>1.017289</td>\n",
              "      <td>1.924136</td>\n",
              "      <td>1.189587</td>\n",
              "      <td>1.151627</td>\n",
              "      <td>1.046971</td>\n",
              "      <td>6.329610</td>\n",
              "    </tr>\n",
              "    <tr>\n",
              "      <th>12</th>\n",
              "      <td>1.704868</td>\n",
              "      <td>1.509368</td>\n",
              "      <td>1.980040</td>\n",
              "      <td>1.831229</td>\n",
              "      <td>1.122226</td>\n",
              "      <td>8.147731</td>\n",
              "    </tr>\n",
              "    <tr>\n",
              "      <th>13</th>\n",
              "      <td>1.408404</td>\n",
              "      <td>1.951018</td>\n",
              "      <td>1.169394</td>\n",
              "      <td>1.518205</td>\n",
              "      <td>1.201101</td>\n",
              "      <td>7.248122</td>\n",
              "    </tr>\n",
              "    <tr>\n",
              "      <th>14</th>\n",
              "      <td>1.692343</td>\n",
              "      <td>1.793392</td>\n",
              "      <td>1.687890</td>\n",
              "      <td>1.448161</td>\n",
              "      <td>1.848296</td>\n",
              "      <td>8.470081</td>\n",
              "    </tr>\n",
              "    <tr>\n",
              "      <th>15</th>\n",
              "      <td>1.696031</td>\n",
              "      <td>1.145565</td>\n",
              "      <td>1.104142</td>\n",
              "      <td>1.021371</td>\n",
              "      <td>1.094435</td>\n",
              "      <td>6.061543</td>\n",
              "    </tr>\n",
              "    <tr>\n",
              "      <th>16</th>\n",
              "      <td>1.683059</td>\n",
              "      <td>1.798360</td>\n",
              "      <td>1.975350</td>\n",
              "      <td>1.614956</td>\n",
              "      <td>1.358715</td>\n",
              "      <td>8.430441</td>\n",
              "    </tr>\n",
              "    <tr>\n",
              "      <th>17</th>\n",
              "      <td>1.020614</td>\n",
              "      <td>1.276026</td>\n",
              "      <td>1.170862</td>\n",
              "      <td>1.634562</td>\n",
              "      <td>1.494957</td>\n",
              "      <td>6.597021</td>\n",
              "    </tr>\n",
              "    <tr>\n",
              "      <th>18</th>\n",
              "      <td>1.799278</td>\n",
              "      <td>1.255310</td>\n",
              "      <td>1.369569</td>\n",
              "      <td>1.094303</td>\n",
              "      <td>1.318765</td>\n",
              "      <td>6.837225</td>\n",
              "    </tr>\n",
              "    <tr>\n",
              "      <th>19</th>\n",
              "      <td>1.055506</td>\n",
              "      <td>1.299175</td>\n",
              "      <td>1.974458</td>\n",
              "      <td>1.400087</td>\n",
              "      <td>1.381461</td>\n",
              "      <td>7.110687</td>\n",
              "    </tr>\n",
              "  </tbody>\n",
              "</table>\n",
              "</div>\n",
              "      <button class=\"colab-df-convert\" onclick=\"convertToInteractive('df-b129a7da-bea0-495c-af0a-b8cb626d7708')\"\n",
              "              title=\"Convert this dataframe to an interactive table.\"\n",
              "              style=\"display:none;\">\n",
              "        \n",
              "  <svg xmlns=\"http://www.w3.org/2000/svg\" height=\"24px\"viewBox=\"0 0 24 24\"\n",
              "       width=\"24px\">\n",
              "    <path d=\"M0 0h24v24H0V0z\" fill=\"none\"/>\n",
              "    <path d=\"M18.56 5.44l.94 2.06.94-2.06 2.06-.94-2.06-.94-.94-2.06-.94 2.06-2.06.94zm-11 1L8.5 8.5l.94-2.06 2.06-.94-2.06-.94L8.5 2.5l-.94 2.06-2.06.94zm10 10l.94 2.06.94-2.06 2.06-.94-2.06-.94-.94-2.06-.94 2.06-2.06.94z\"/><path d=\"M17.41 7.96l-1.37-1.37c-.4-.4-.92-.59-1.43-.59-.52 0-1.04.2-1.43.59L10.3 9.45l-7.72 7.72c-.78.78-.78 2.05 0 2.83L4 21.41c.39.39.9.59 1.41.59.51 0 1.02-.2 1.41-.59l7.78-7.78 2.81-2.81c.8-.78.8-2.07 0-2.86zM5.41 20L4 18.59l7.72-7.72 1.47 1.35L5.41 20z\"/>\n",
              "  </svg>\n",
              "      </button>\n",
              "      \n",
              "  <style>\n",
              "    .colab-df-container {\n",
              "      display:flex;\n",
              "      flex-wrap:wrap;\n",
              "      gap: 12px;\n",
              "    }\n",
              "\n",
              "    .colab-df-convert {\n",
              "      background-color: #E8F0FE;\n",
              "      border: none;\n",
              "      border-radius: 50%;\n",
              "      cursor: pointer;\n",
              "      display: none;\n",
              "      fill: #1967D2;\n",
              "      height: 32px;\n",
              "      padding: 0 0 0 0;\n",
              "      width: 32px;\n",
              "    }\n",
              "\n",
              "    .colab-df-convert:hover {\n",
              "      background-color: #E2EBFA;\n",
              "      box-shadow: 0px 1px 2px rgba(60, 64, 67, 0.3), 0px 1px 3px 1px rgba(60, 64, 67, 0.15);\n",
              "      fill: #174EA6;\n",
              "    }\n",
              "\n",
              "    [theme=dark] .colab-df-convert {\n",
              "      background-color: #3B4455;\n",
              "      fill: #D2E3FC;\n",
              "    }\n",
              "\n",
              "    [theme=dark] .colab-df-convert:hover {\n",
              "      background-color: #434B5C;\n",
              "      box-shadow: 0px 1px 3px 1px rgba(0, 0, 0, 0.15);\n",
              "      filter: drop-shadow(0px 1px 2px rgba(0, 0, 0, 0.3));\n",
              "      fill: #FFFFFF;\n",
              "    }\n",
              "  </style>\n",
              "\n",
              "      <script>\n",
              "        const buttonEl =\n",
              "          document.querySelector('#df-b129a7da-bea0-495c-af0a-b8cb626d7708 button.colab-df-convert');\n",
              "        buttonEl.style.display =\n",
              "          google.colab.kernel.accessAllowed ? 'block' : 'none';\n",
              "\n",
              "        async function convertToInteractive(key) {\n",
              "          const element = document.querySelector('#df-b129a7da-bea0-495c-af0a-b8cb626d7708');\n",
              "          const dataTable =\n",
              "            await google.colab.kernel.invokeFunction('convertToInteractive',\n",
              "                                                     [key], {});\n",
              "          if (!dataTable) return;\n",
              "\n",
              "          const docLinkHtml = 'Like what you see? Visit the ' +\n",
              "            '<a target=\"_blank\" href=https://colab.research.google.com/notebooks/data_table.ipynb>data table notebook</a>'\n",
              "            + ' to learn more about interactive tables.';\n",
              "          element.innerHTML = '';\n",
              "          dataTable['output_type'] = 'display_data';\n",
              "          await google.colab.output.renderOutput(dataTable, element);\n",
              "          const docLink = document.createElement('div');\n",
              "          docLink.innerHTML = docLinkHtml;\n",
              "          element.appendChild(docLink);\n",
              "        }\n",
              "      </script>\n",
              "    </div>\n",
              "  </div>\n",
              "  "
            ]
          },
          "metadata": {},
          "execution_count": 169
        }
      ]
    },
    {
      "cell_type": "code",
      "source": [
        "df[\"g\"] = df[\"f\"].apply(lambda x: \"LT8\" if x < 8 else \"GT8\")\n",
        "df"
      ],
      "metadata": {
        "colab": {
          "base_uri": "https://localhost:8080/",
          "height": 677
        },
        "id": "zREpnSDXJ7OY",
        "outputId": "506f93d2-204c-49fb-bd4a-6937317986e0"
      },
      "execution_count": 171,
      "outputs": [
        {
          "output_type": "execute_result",
          "data": {
            "text/plain": [
              "           a         b         c         d         e         f    g\n",
              "0   1.804479  1.654674  1.212903  1.294245  1.712640  7.678942  LT8\n",
              "1   1.374002  1.772897  1.382302  1.639399  1.420817  7.589416  LT8\n",
              "2   1.499859  1.818577  1.248242  1.469430  1.517587  7.553694  LT8\n",
              "3   1.591509  1.441512  1.465231  1.446167  1.794974  7.739393  LT8\n",
              "4   1.818236  1.377758  1.734656  1.065593  1.098923  7.095167  LT8\n",
              "5   1.414579  1.945770  1.620699  1.699227  1.946835  8.627110  GT8\n",
              "6   1.241488  1.700607  1.031060  1.288755  1.628175  6.890085  LT8\n",
              "7   1.669606  1.322846  1.175683  1.296608  1.257403  6.722145  LT8\n",
              "8   1.506903  1.354472  1.901573  1.734422  1.896481  8.393851  GT8\n",
              "9   1.571317  1.367879  1.377030  1.609718  1.446908  7.372853  LT8\n",
              "10  1.181773  1.916224  1.445188  1.899267  1.025486  7.467937  LT8\n",
              "11  1.017289  1.924136  1.189587  1.151627  1.046971  6.329610  LT8\n",
              "12  1.704868  1.509368  1.980040  1.831229  1.122226  8.147731  GT8\n",
              "13  1.408404  1.951018  1.169394  1.518205  1.201101  7.248122  LT8\n",
              "14  1.692343  1.793392  1.687890  1.448161  1.848296  8.470081  GT8\n",
              "15  1.696031  1.145565  1.104142  1.021371  1.094435  6.061543  LT8\n",
              "16  1.683059  1.798360  1.975350  1.614956  1.358715  8.430441  GT8\n",
              "17  1.020614  1.276026  1.170862  1.634562  1.494957  6.597021  LT8\n",
              "18  1.799278  1.255310  1.369569  1.094303  1.318765  6.837225  LT8\n",
              "19  1.055506  1.299175  1.974458  1.400087  1.381461  7.110687  LT8"
            ],
            "text/html": [
              "\n",
              "  <div id=\"df-c5c3fcda-48d8-4bd4-98ca-7539770a4587\">\n",
              "    <div class=\"colab-df-container\">\n",
              "      <div>\n",
              "<style scoped>\n",
              "    .dataframe tbody tr th:only-of-type {\n",
              "        vertical-align: middle;\n",
              "    }\n",
              "\n",
              "    .dataframe tbody tr th {\n",
              "        vertical-align: top;\n",
              "    }\n",
              "\n",
              "    .dataframe thead th {\n",
              "        text-align: right;\n",
              "    }\n",
              "</style>\n",
              "<table border=\"1\" class=\"dataframe\">\n",
              "  <thead>\n",
              "    <tr style=\"text-align: right;\">\n",
              "      <th></th>\n",
              "      <th>a</th>\n",
              "      <th>b</th>\n",
              "      <th>c</th>\n",
              "      <th>d</th>\n",
              "      <th>e</th>\n",
              "      <th>f</th>\n",
              "      <th>g</th>\n",
              "    </tr>\n",
              "  </thead>\n",
              "  <tbody>\n",
              "    <tr>\n",
              "      <th>0</th>\n",
              "      <td>1.804479</td>\n",
              "      <td>1.654674</td>\n",
              "      <td>1.212903</td>\n",
              "      <td>1.294245</td>\n",
              "      <td>1.712640</td>\n",
              "      <td>7.678942</td>\n",
              "      <td>LT8</td>\n",
              "    </tr>\n",
              "    <tr>\n",
              "      <th>1</th>\n",
              "      <td>1.374002</td>\n",
              "      <td>1.772897</td>\n",
              "      <td>1.382302</td>\n",
              "      <td>1.639399</td>\n",
              "      <td>1.420817</td>\n",
              "      <td>7.589416</td>\n",
              "      <td>LT8</td>\n",
              "    </tr>\n",
              "    <tr>\n",
              "      <th>2</th>\n",
              "      <td>1.499859</td>\n",
              "      <td>1.818577</td>\n",
              "      <td>1.248242</td>\n",
              "      <td>1.469430</td>\n",
              "      <td>1.517587</td>\n",
              "      <td>7.553694</td>\n",
              "      <td>LT8</td>\n",
              "    </tr>\n",
              "    <tr>\n",
              "      <th>3</th>\n",
              "      <td>1.591509</td>\n",
              "      <td>1.441512</td>\n",
              "      <td>1.465231</td>\n",
              "      <td>1.446167</td>\n",
              "      <td>1.794974</td>\n",
              "      <td>7.739393</td>\n",
              "      <td>LT8</td>\n",
              "    </tr>\n",
              "    <tr>\n",
              "      <th>4</th>\n",
              "      <td>1.818236</td>\n",
              "      <td>1.377758</td>\n",
              "      <td>1.734656</td>\n",
              "      <td>1.065593</td>\n",
              "      <td>1.098923</td>\n",
              "      <td>7.095167</td>\n",
              "      <td>LT8</td>\n",
              "    </tr>\n",
              "    <tr>\n",
              "      <th>5</th>\n",
              "      <td>1.414579</td>\n",
              "      <td>1.945770</td>\n",
              "      <td>1.620699</td>\n",
              "      <td>1.699227</td>\n",
              "      <td>1.946835</td>\n",
              "      <td>8.627110</td>\n",
              "      <td>GT8</td>\n",
              "    </tr>\n",
              "    <tr>\n",
              "      <th>6</th>\n",
              "      <td>1.241488</td>\n",
              "      <td>1.700607</td>\n",
              "      <td>1.031060</td>\n",
              "      <td>1.288755</td>\n",
              "      <td>1.628175</td>\n",
              "      <td>6.890085</td>\n",
              "      <td>LT8</td>\n",
              "    </tr>\n",
              "    <tr>\n",
              "      <th>7</th>\n",
              "      <td>1.669606</td>\n",
              "      <td>1.322846</td>\n",
              "      <td>1.175683</td>\n",
              "      <td>1.296608</td>\n",
              "      <td>1.257403</td>\n",
              "      <td>6.722145</td>\n",
              "      <td>LT8</td>\n",
              "    </tr>\n",
              "    <tr>\n",
              "      <th>8</th>\n",
              "      <td>1.506903</td>\n",
              "      <td>1.354472</td>\n",
              "      <td>1.901573</td>\n",
              "      <td>1.734422</td>\n",
              "      <td>1.896481</td>\n",
              "      <td>8.393851</td>\n",
              "      <td>GT8</td>\n",
              "    </tr>\n",
              "    <tr>\n",
              "      <th>9</th>\n",
              "      <td>1.571317</td>\n",
              "      <td>1.367879</td>\n",
              "      <td>1.377030</td>\n",
              "      <td>1.609718</td>\n",
              "      <td>1.446908</td>\n",
              "      <td>7.372853</td>\n",
              "      <td>LT8</td>\n",
              "    </tr>\n",
              "    <tr>\n",
              "      <th>10</th>\n",
              "      <td>1.181773</td>\n",
              "      <td>1.916224</td>\n",
              "      <td>1.445188</td>\n",
              "      <td>1.899267</td>\n",
              "      <td>1.025486</td>\n",
              "      <td>7.467937</td>\n",
              "      <td>LT8</td>\n",
              "    </tr>\n",
              "    <tr>\n",
              "      <th>11</th>\n",
              "      <td>1.017289</td>\n",
              "      <td>1.924136</td>\n",
              "      <td>1.189587</td>\n",
              "      <td>1.151627</td>\n",
              "      <td>1.046971</td>\n",
              "      <td>6.329610</td>\n",
              "      <td>LT8</td>\n",
              "    </tr>\n",
              "    <tr>\n",
              "      <th>12</th>\n",
              "      <td>1.704868</td>\n",
              "      <td>1.509368</td>\n",
              "      <td>1.980040</td>\n",
              "      <td>1.831229</td>\n",
              "      <td>1.122226</td>\n",
              "      <td>8.147731</td>\n",
              "      <td>GT8</td>\n",
              "    </tr>\n",
              "    <tr>\n",
              "      <th>13</th>\n",
              "      <td>1.408404</td>\n",
              "      <td>1.951018</td>\n",
              "      <td>1.169394</td>\n",
              "      <td>1.518205</td>\n",
              "      <td>1.201101</td>\n",
              "      <td>7.248122</td>\n",
              "      <td>LT8</td>\n",
              "    </tr>\n",
              "    <tr>\n",
              "      <th>14</th>\n",
              "      <td>1.692343</td>\n",
              "      <td>1.793392</td>\n",
              "      <td>1.687890</td>\n",
              "      <td>1.448161</td>\n",
              "      <td>1.848296</td>\n",
              "      <td>8.470081</td>\n",
              "      <td>GT8</td>\n",
              "    </tr>\n",
              "    <tr>\n",
              "      <th>15</th>\n",
              "      <td>1.696031</td>\n",
              "      <td>1.145565</td>\n",
              "      <td>1.104142</td>\n",
              "      <td>1.021371</td>\n",
              "      <td>1.094435</td>\n",
              "      <td>6.061543</td>\n",
              "      <td>LT8</td>\n",
              "    </tr>\n",
              "    <tr>\n",
              "      <th>16</th>\n",
              "      <td>1.683059</td>\n",
              "      <td>1.798360</td>\n",
              "      <td>1.975350</td>\n",
              "      <td>1.614956</td>\n",
              "      <td>1.358715</td>\n",
              "      <td>8.430441</td>\n",
              "      <td>GT8</td>\n",
              "    </tr>\n",
              "    <tr>\n",
              "      <th>17</th>\n",
              "      <td>1.020614</td>\n",
              "      <td>1.276026</td>\n",
              "      <td>1.170862</td>\n",
              "      <td>1.634562</td>\n",
              "      <td>1.494957</td>\n",
              "      <td>6.597021</td>\n",
              "      <td>LT8</td>\n",
              "    </tr>\n",
              "    <tr>\n",
              "      <th>18</th>\n",
              "      <td>1.799278</td>\n",
              "      <td>1.255310</td>\n",
              "      <td>1.369569</td>\n",
              "      <td>1.094303</td>\n",
              "      <td>1.318765</td>\n",
              "      <td>6.837225</td>\n",
              "      <td>LT8</td>\n",
              "    </tr>\n",
              "    <tr>\n",
              "      <th>19</th>\n",
              "      <td>1.055506</td>\n",
              "      <td>1.299175</td>\n",
              "      <td>1.974458</td>\n",
              "      <td>1.400087</td>\n",
              "      <td>1.381461</td>\n",
              "      <td>7.110687</td>\n",
              "      <td>LT8</td>\n",
              "    </tr>\n",
              "  </tbody>\n",
              "</table>\n",
              "</div>\n",
              "      <button class=\"colab-df-convert\" onclick=\"convertToInteractive('df-c5c3fcda-48d8-4bd4-98ca-7539770a4587')\"\n",
              "              title=\"Convert this dataframe to an interactive table.\"\n",
              "              style=\"display:none;\">\n",
              "        \n",
              "  <svg xmlns=\"http://www.w3.org/2000/svg\" height=\"24px\"viewBox=\"0 0 24 24\"\n",
              "       width=\"24px\">\n",
              "    <path d=\"M0 0h24v24H0V0z\" fill=\"none\"/>\n",
              "    <path d=\"M18.56 5.44l.94 2.06.94-2.06 2.06-.94-2.06-.94-.94-2.06-.94 2.06-2.06.94zm-11 1L8.5 8.5l.94-2.06 2.06-.94-2.06-.94L8.5 2.5l-.94 2.06-2.06.94zm10 10l.94 2.06.94-2.06 2.06-.94-2.06-.94-.94-2.06-.94 2.06-2.06.94z\"/><path d=\"M17.41 7.96l-1.37-1.37c-.4-.4-.92-.59-1.43-.59-.52 0-1.04.2-1.43.59L10.3 9.45l-7.72 7.72c-.78.78-.78 2.05 0 2.83L4 21.41c.39.39.9.59 1.41.59.51 0 1.02-.2 1.41-.59l7.78-7.78 2.81-2.81c.8-.78.8-2.07 0-2.86zM5.41 20L4 18.59l7.72-7.72 1.47 1.35L5.41 20z\"/>\n",
              "  </svg>\n",
              "      </button>\n",
              "      \n",
              "  <style>\n",
              "    .colab-df-container {\n",
              "      display:flex;\n",
              "      flex-wrap:wrap;\n",
              "      gap: 12px;\n",
              "    }\n",
              "\n",
              "    .colab-df-convert {\n",
              "      background-color: #E8F0FE;\n",
              "      border: none;\n",
              "      border-radius: 50%;\n",
              "      cursor: pointer;\n",
              "      display: none;\n",
              "      fill: #1967D2;\n",
              "      height: 32px;\n",
              "      padding: 0 0 0 0;\n",
              "      width: 32px;\n",
              "    }\n",
              "\n",
              "    .colab-df-convert:hover {\n",
              "      background-color: #E2EBFA;\n",
              "      box-shadow: 0px 1px 2px rgba(60, 64, 67, 0.3), 0px 1px 3px 1px rgba(60, 64, 67, 0.15);\n",
              "      fill: #174EA6;\n",
              "    }\n",
              "\n",
              "    [theme=dark] .colab-df-convert {\n",
              "      background-color: #3B4455;\n",
              "      fill: #D2E3FC;\n",
              "    }\n",
              "\n",
              "    [theme=dark] .colab-df-convert:hover {\n",
              "      background-color: #434B5C;\n",
              "      box-shadow: 0px 1px 3px 1px rgba(0, 0, 0, 0.15);\n",
              "      filter: drop-shadow(0px 1px 2px rgba(0, 0, 0, 0.3));\n",
              "      fill: #FFFFFF;\n",
              "    }\n",
              "  </style>\n",
              "\n",
              "      <script>\n",
              "        const buttonEl =\n",
              "          document.querySelector('#df-c5c3fcda-48d8-4bd4-98ca-7539770a4587 button.colab-df-convert');\n",
              "        buttonEl.style.display =\n",
              "          google.colab.kernel.accessAllowed ? 'block' : 'none';\n",
              "\n",
              "        async function convertToInteractive(key) {\n",
              "          const element = document.querySelector('#df-c5c3fcda-48d8-4bd4-98ca-7539770a4587');\n",
              "          const dataTable =\n",
              "            await google.colab.kernel.invokeFunction('convertToInteractive',\n",
              "                                                     [key], {});\n",
              "          if (!dataTable) return;\n",
              "\n",
              "          const docLinkHtml = 'Like what you see? Visit the ' +\n",
              "            '<a target=\"_blank\" href=https://colab.research.google.com/notebooks/data_table.ipynb>data table notebook</a>'\n",
              "            + ' to learn more about interactive tables.';\n",
              "          element.innerHTML = '';\n",
              "          dataTable['output_type'] = 'display_data';\n",
              "          await google.colab.output.renderOutput(dataTable, element);\n",
              "          const docLink = document.createElement('div');\n",
              "          docLink.innerHTML = docLinkHtml;\n",
              "          element.appendChild(docLink);\n",
              "        }\n",
              "      </script>\n",
              "    </div>\n",
              "  </div>\n",
              "  "
            ]
          },
          "metadata": {},
          "execution_count": 171
        }
      ]
    },
    {
      "cell_type": "code",
      "source": [
        "print(\"Number of column where g is LT8 is\", df[df[\"g\"] == \"LT8\"][\"g\"].count())"
      ],
      "metadata": {
        "colab": {
          "base_uri": "https://localhost:8080/"
        },
        "id": "voie3I0uKlvA",
        "outputId": "022686e2-f8ca-4c56-a049-46c25b9ed023"
      },
      "execution_count": 173,
      "outputs": [
        {
          "output_type": "stream",
          "name": "stdout",
          "text": [
            "Number of column where g is LT8 is 15\n"
          ]
        }
      ]
    },
    {
      "cell_type": "code",
      "source": [
        "print(\"Standard Deviation of f where g is LT8 is\", df[df[\"g\"] == \"LT8\"][\"f\"].std())\n",
        "print(\"Standard Deviation of f where g is GT8 is\", df[df[\"g\"] == \"GT8\"][\"f\"].std())"
      ],
      "metadata": {
        "colab": {
          "base_uri": "https://localhost:8080/"
        },
        "id": "GG8oh-WQK3uj",
        "outputId": "f22ba5d2-6b68-4c8a-bf0c-2afbd1c9c805"
      },
      "execution_count": 175,
      "outputs": [
        {
          "output_type": "stream",
          "name": "stdout",
          "text": [
            "Standard Deviation of f where g is LT8 is 0.5070365440848238\n",
            "Standard Deviation of f where g is GT8 is 0.17330335095086935\n"
          ]
        }
      ]
    },
    {
      "cell_type": "markdown",
      "source": [
        "## 12"
      ],
      "metadata": {
        "id": "T10tSyCR5G66"
      }
    },
    {
      "cell_type": "markdown",
      "source": [],
      "metadata": {
        "id": "RjQJ0aOtMkhi"
      }
    },
    {
      "cell_type": "code",
      "source": [
        "A = np.array([[1, 2], [3, 4], [5, 6]])\n",
        "B = np.array([5, 6])\n",
        "print(A * B)"
      ],
      "metadata": {
        "colab": {
          "base_uri": "https://localhost:8080/"
        },
        "id": "DCEDwvbi5Iun",
        "outputId": "97283042-0439-4382-e282-b52b468417e0"
      },
      "execution_count": 185,
      "outputs": [
        {
          "output_type": "stream",
          "name": "stdout",
          "text": [
            "[[ 5 12]\n",
            " [15 24]\n",
            " [25 36]]\n"
          ]
        }
      ]
    },
    {
      "cell_type": "markdown",
      "source": [
        "## 13"
      ],
      "metadata": {
        "id": "Sew2Y_yw5JG8"
      }
    },
    {
      "cell_type": "code",
      "source": [
        "def argmin(arr):\n",
        "  assert type(arr) == np.ndarray, \"Not an numpy array\"\n",
        "  mi = arr[0]\n",
        "  idx = 0\n",
        "  for i in range(arr.shape[0]):\n",
        "    if mi > arr[i]:\n",
        "      mi = arr[i]\n",
        "      idx = i\n",
        "  return idx"
      ],
      "metadata": {
        "id": "aoVhRv3e5KgC"
      },
      "execution_count": 201,
      "outputs": []
    },
    {
      "cell_type": "code",
      "source": [
        "arr = np.random.uniform(low=2, high=3, size=(100,))\n",
        "print(\"Minimum value of array is\", argmin(arr))\n",
        "print(\"With np.argmin\", np.argmin(arr))\n",
        "assert np.argmin(arr) == argmin(arr), \"Not equal\""
      ],
      "metadata": {
        "colab": {
          "base_uri": "https://localhost:8080/"
        },
        "id": "LIg14ZGSQQa2",
        "outputId": "c9420f1b-3d7b-4d52-9497-fb6ea798fbc8"
      },
      "execution_count": 204,
      "outputs": [
        {
          "output_type": "stream",
          "name": "stdout",
          "text": [
            "Minimum value of array is 74\n",
            "With np.argmin 74\n"
          ]
        }
      ]
    },
    {
      "cell_type": "markdown",
      "source": [
        "Above cell shows that both the functions produce the same result"
      ],
      "metadata": {
        "id": "FpNjKK11RjAJ"
      }
    },
    {
      "cell_type": "markdown",
      "source": [
        "## References\n",
        "- Numpy faster than list - https://towardsdatascience.com/how-fast-numpy-really-is-e9111df44347\n",
        "- JAX - https://jax.readthedocs.io/en/latest/notebooks/autodiff_cookbook.html\n",
        "- Sympy Calculus - https://docs.sympy.org/latest/tutorials/intro-tutorial/calculus.html\n",
        "\n",
        " "
      ],
      "metadata": {
        "id": "3nfTY-f1A4AP"
      }
    }
  ]
}